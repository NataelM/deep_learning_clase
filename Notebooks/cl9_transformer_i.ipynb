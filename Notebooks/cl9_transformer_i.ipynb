{
  "cells": [
    {
      "cell_type": "markdown",
      "metadata": {
        "id": "nJZC2PnYnA0q"
      },
      "source": [
        "This is a companion notebook for the book [Deep Learning with Python, Second Edition](https://www.manning.com/books/deep-learning-with-python-second-edition?a_aid=keras&a_bid=76564dff). For readability, it only contains runnable code blocks and section titles, and omits everything else in the book: text paragraphs, figures, and pseudocode.\n",
        "\n",
        "**If you want to be able to follow what's going on, I recommend reading the notebook side by side with your copy of the book.**\n",
        "\n",
        "This notebook was generated for TensorFlow 2.6."
      ]
    },
    {
      "cell_type": "markdown",
      "metadata": {
        "id": "vkm5s2hKnA0y"
      },
      "source": [
        "## The Transformer architecture"
      ]
    },
    {
      "cell_type": "markdown",
      "metadata": {
        "id": "gqgBCYwtnA01"
      },
      "source": [
        "### Understanding self-attention"
      ]
    },
    {
      "cell_type": "markdown",
      "metadata": {
        "id": "gSH4qdhqnA05"
      },
      "source": [
        "#### Generalized self-attention: the query-key-value model"
      ]
    },
    {
      "cell_type": "markdown",
      "metadata": {
        "id": "Xs-vBvSpnA09"
      },
      "source": [
        "### Multi-head attention"
      ]
    },
    {
      "cell_type": "markdown",
      "metadata": {
        "id": "oC0VKUIFnA0_"
      },
      "source": [
        "### The Transformer encoder"
      ]
    },
    {
      "cell_type": "markdown",
      "metadata": {
        "id": "KOaWVsDwnA1C"
      },
      "source": [
        "**Getting the data**"
      ]
    },
    {
      "cell_type": "code",
      "execution_count": 7,
      "metadata": {
        "id": "jX8sDKCAnA1D",
        "colab": {
          "base_uri": "https://localhost:8080/"
        },
        "outputId": "7313f9fc-ba58-49b8-fba1-4351fdf641ea"
      },
      "outputs": [
        {
          "output_type": "stream",
          "name": "stdout",
          "text": [
            "  % Total    % Received % Xferd  Average Speed   Time    Time     Time  Current\n",
            "                                 Dload  Upload   Total   Spent    Left  Speed\n",
            "100 80.2M  100 80.2M    0     0  9869k      0  0:00:08  0:00:08 --:--:-- 16.8M\n"
          ]
        }
      ],
      "source": [
        "!curl -O https://ai.stanford.edu/~amaas/data/sentiment/aclImdb_v1.tar.gz\n",
        "!tar -xf aclImdb_v1.tar.gz\n",
        "!rm -r aclImdb/train/unsup"
      ]
    },
    {
      "cell_type": "markdown",
      "metadata": {
        "id": "My8CZlGCnA1G"
      },
      "source": [
        "**Preparing the data**"
      ]
    },
    {
      "cell_type": "code",
      "execution_count": 8,
      "metadata": {
        "id": "8kOrKa_DnA1H",
        "colab": {
          "base_uri": "https://localhost:8080/"
        },
        "outputId": "a2b4ff14-4e91-4897-ce93-23fb38900b5d"
      },
      "outputs": [
        {
          "output_type": "stream",
          "name": "stdout",
          "text": [
            "Found 20000 files belonging to 2 classes.\n",
            "Found 5000 files belonging to 2 classes.\n",
            "Found 25000 files belonging to 2 classes.\n"
          ]
        }
      ],
      "source": [
        "import os, pathlib, shutil, random\n",
        "from tensorflow import keras\n",
        "batch_size = 32\n",
        "base_dir = pathlib.Path(\"aclImdb\")\n",
        "val_dir = base_dir / \"val\"\n",
        "train_dir = base_dir / \"train\"\n",
        "for category in (\"neg\", \"pos\"):\n",
        "    os.makedirs(val_dir / category)\n",
        "    files = os.listdir(train_dir / category)\n",
        "    random.Random(1337).shuffle(files)\n",
        "    num_val_samples = int(0.2 * len(files))\n",
        "    val_files = files[-num_val_samples:]\n",
        "    for fname in val_files:\n",
        "        shutil.move(train_dir / category / fname,\n",
        "                    val_dir / category / fname)\n",
        "\n",
        "train_ds = keras.utils.text_dataset_from_directory(\n",
        "    \"aclImdb/train\", batch_size=batch_size\n",
        ")\n",
        "val_ds = keras.utils.text_dataset_from_directory(\n",
        "    \"aclImdb/val\", batch_size=batch_size\n",
        ")\n",
        "test_ds = keras.utils.text_dataset_from_directory(\n",
        "    \"aclImdb/test\", batch_size=batch_size\n",
        ")\n",
        "text_only_train_ds = train_ds.map(lambda x, y: x)"
      ]
    },
    {
      "cell_type": "markdown",
      "metadata": {
        "id": "B1caBNGZnA1I"
      },
      "source": [
        "**Vectorizing the data**"
      ]
    },
    {
      "cell_type": "code",
      "execution_count": 9,
      "metadata": {
        "id": "sLDsmOcYnA1J"
      },
      "outputs": [],
      "source": [
        "from tensorflow.keras import layers\n",
        "\n",
        "max_length = 600\n",
        "max_tokens = 20000\n",
        "text_vectorization = layers.TextVectorization(\n",
        "    max_tokens=max_tokens,\n",
        "    output_mode=\"int\",\n",
        "    output_sequence_length=max_length,\n",
        ")\n",
        "text_vectorization.adapt(text_only_train_ds)\n",
        "\n",
        "int_train_ds = train_ds.map(\n",
        "    lambda x, y: (text_vectorization(x), y),\n",
        "    num_parallel_calls=4)\n",
        "int_val_ds = val_ds.map(\n",
        "    lambda x, y: (text_vectorization(x), y),\n",
        "    num_parallel_calls=4)\n",
        "int_test_ds = test_ds.map(\n",
        "    lambda x, y: (text_vectorization(x), y),\n",
        "    num_parallel_calls=4)"
      ]
    },
    {
      "cell_type": "markdown",
      "metadata": {
        "id": "HFiKijfbnA1K"
      },
      "source": [
        "**Transformer encoder implemented as a subclassed `Layer`**\n",
        "\n",
        "Cuando hablamos de transformer nos imaginamos algo como lo siguiente"
      ]
    },
    {
      "cell_type": "code",
      "execution_count": 10,
      "metadata": {
        "id": "w9XwChlHnA1L"
      },
      "outputs": [],
      "source": [
        "import tensorflow as tf\n",
        "from tensorflow import keras\n",
        "from tensorflow.keras import layers\n",
        "\n",
        "class TransformerEncoder(layers.Layer):\n",
        "    def __init__(self, embed_dim, dense_dim, num_heads, **kwargs):\n",
        "        super().__init__(**kwargs)\n",
        "        self.embed_dim = embed_dim\n",
        "        self.dense_dim = dense_dim\n",
        "        self.num_heads = num_heads\n",
        "        self.attention = layers.MultiHeadAttention(\n",
        "            num_heads=num_heads, key_dim=embed_dim)\n",
        "        self.dense_proj = keras.Sequential(\n",
        "            [layers.Dense(dense_dim, activation=\"relu\"),\n",
        "             layers.Dense(embed_dim),]\n",
        "        )\n",
        "        self.layernorm_1 = layers.LayerNormalization()\n",
        "        self.layernorm_2 = layers.LayerNormalization()\n",
        "\n",
        "    def call(self, inputs, mask=None):\n",
        "        if mask is not None:\n",
        "            mask = mask[:, tf.newaxis, :]\n",
        "        attention_output = self.attention(\n",
        "            inputs, inputs, attention_mask=mask)\n",
        "        proj_input = self.layernorm_1(inputs + attention_output)\n",
        "        proj_output = self.dense_proj(proj_input)\n",
        "        return self.layernorm_2(proj_input + proj_output)\n",
        "\n",
        "    def get_config(self):\n",
        "        config = super().get_config()\n",
        "        config.update({\n",
        "            \"embed_dim\": self.embed_dim,\n",
        "            \"num_heads\": self.num_heads,\n",
        "            \"dense_dim\": self.dense_dim,\n",
        "        })\n",
        "        return config"
      ]
    },
    {
      "cell_type": "markdown",
      "metadata": {
        "id": "k0DH0pW7nA1N"
      },
      "source": [
        "**Using the Transformer encoder for text classification**"
      ]
    },
    {
      "cell_type": "code",
      "execution_count": 11,
      "metadata": {
        "id": "E3xaaImfnA1O",
        "colab": {
          "base_uri": "https://localhost:8080/"
        },
        "outputId": "cd957cc6-32de-457a-8c10-ce446eb49e46"
      },
      "outputs": [
        {
          "output_type": "stream",
          "name": "stdout",
          "text": [
            "Model: \"model\"\n",
            "_________________________________________________________________\n",
            " Layer (type)                Output Shape              Param #   \n",
            "=================================================================\n",
            " input_1 (InputLayer)        [(None, None)]            0         \n",
            "                                                                 \n",
            " embedding (Embedding)       (None, None, 256)         5120000   \n",
            "                                                                 \n",
            " transformer_encoder (Transf  (None, None, 256)        543776    \n",
            " ormerEncoder)                                                   \n",
            "                                                                 \n",
            " global_max_pooling1d (Globa  (None, 256)              0         \n",
            " lMaxPooling1D)                                                  \n",
            "                                                                 \n",
            " dropout (Dropout)           (None, 256)               0         \n",
            "                                                                 \n",
            " dense_2 (Dense)             (None, 1)                 257       \n",
            "                                                                 \n",
            "=================================================================\n",
            "Total params: 5,664,033\n",
            "Trainable params: 5,664,033\n",
            "Non-trainable params: 0\n",
            "_________________________________________________________________\n"
          ]
        }
      ],
      "source": [
        "vocab_size = 20000 #tamaño del vocabulario, 20k palabras para el vocabulario\n",
        "embed_dim = 256 # el vocabulario en 256 dimensiones\n",
        "num_heads = 2 # dos cabezas \n",
        "dense_dim = 32 # numero de neuronas\n",
        "\n",
        "inputs = keras.Input(shape=(None,), dtype=\"int64\") #tama{o del batch libre}\n",
        "x = layers.Embedding(vocab_size, embed_dim)(inputs) # capa de embeding\n",
        "x = TransformerEncoder(embed_dim, dense_dim, num_heads)(x) # transformer encoder \n",
        "x = layers.GlobalMaxPooling1D()(x) # capa de layer global max poolinh\n",
        "# la capa anterior lo que hace es que devuelve una secuencia completa (vector)\n",
        "x = layers.Dropout(0.5)(x) #drop out\n",
        "outputs = layers.Dense(1, activation=\"sigmoid\")(x) #capa densa \n",
        "#con sigmoide porque nompas clasifica\n",
        "\n",
        "model = keras.Model(inputs, outputs)\n",
        "model.compile(optimizer=\"rmsprop\",\n",
        "              loss=\"binary_crossentropy\",\n",
        "              metrics=[\"accuracy\"])\n",
        "model.summary()"
      ]
    },
    {
      "cell_type": "markdown",
      "metadata": {
        "id": "rLJ492ksnA1R"
      },
      "source": [
        "**Training and evaluating the Transformer encoder based model**"
      ]
    },
    {
      "cell_type": "code",
      "execution_count": 12,
      "metadata": {
        "id": "qfoKY9bZnA1S",
        "colab": {
          "base_uri": "https://localhost:8080/"
        },
        "outputId": "525bb5e9-cefb-45fa-98f8-814be9e109ba"
      },
      "outputs": [
        {
          "output_type": "stream",
          "name": "stdout",
          "text": [
            "Epoch 1/20\n",
            "625/625 [==============================] - 49s 68ms/step - loss: 0.4751 - accuracy: 0.7789 - val_loss: 0.3216 - val_accuracy: 0.8626\n",
            "Epoch 2/20\n",
            "625/625 [==============================] - 44s 70ms/step - loss: 0.3110 - accuracy: 0.8684 - val_loss: 0.2981 - val_accuracy: 0.8750\n",
            "Epoch 3/20\n",
            "625/625 [==============================] - 43s 69ms/step - loss: 0.2440 - accuracy: 0.8996 - val_loss: 0.3527 - val_accuracy: 0.8638\n",
            "Epoch 4/20\n",
            "625/625 [==============================] - 43s 68ms/step - loss: 0.1901 - accuracy: 0.9269 - val_loss: 0.3480 - val_accuracy: 0.8650\n",
            "Epoch 5/20\n",
            "625/625 [==============================] - 42s 67ms/step - loss: 0.1550 - accuracy: 0.9402 - val_loss: 0.3267 - val_accuracy: 0.8880\n",
            "Epoch 6/20\n",
            "625/625 [==============================] - 42s 67ms/step - loss: 0.1276 - accuracy: 0.9527 - val_loss: 0.3421 - val_accuracy: 0.8874\n",
            "Epoch 7/20\n",
            "625/625 [==============================] - 42s 67ms/step - loss: 0.1112 - accuracy: 0.9590 - val_loss: 0.3758 - val_accuracy: 0.8718\n",
            "Epoch 8/20\n",
            "625/625 [==============================] - 43s 69ms/step - loss: 0.0904 - accuracy: 0.9680 - val_loss: 0.4190 - val_accuracy: 0.8730\n",
            "Epoch 9/20\n",
            "625/625 [==============================] - 43s 69ms/step - loss: 0.0813 - accuracy: 0.9712 - val_loss: 0.4262 - val_accuracy: 0.8698\n",
            "Epoch 10/20\n",
            "625/625 [==============================] - 42s 67ms/step - loss: 0.0683 - accuracy: 0.9759 - val_loss: 0.5697 - val_accuracy: 0.8490\n",
            "Epoch 11/20\n",
            "625/625 [==============================] - 42s 67ms/step - loss: 0.0606 - accuracy: 0.9790 - val_loss: 0.4330 - val_accuracy: 0.8696\n",
            "Epoch 12/20\n",
            "625/625 [==============================] - 43s 68ms/step - loss: 0.0498 - accuracy: 0.9823 - val_loss: 0.5585 - val_accuracy: 0.8668\n",
            "Epoch 13/20\n",
            "625/625 [==============================] - 42s 67ms/step - loss: 0.0425 - accuracy: 0.9849 - val_loss: 0.6245 - val_accuracy: 0.8626\n",
            "Epoch 14/20\n",
            "625/625 [==============================] - 42s 67ms/step - loss: 0.0372 - accuracy: 0.9876 - val_loss: 0.9881 - val_accuracy: 0.8412\n",
            "Epoch 15/20\n",
            "625/625 [==============================] - 42s 67ms/step - loss: 0.0274 - accuracy: 0.9902 - val_loss: 0.9256 - val_accuracy: 0.8590\n",
            "Epoch 16/20\n",
            "625/625 [==============================] - 42s 67ms/step - loss: 0.0218 - accuracy: 0.9926 - val_loss: 0.8921 - val_accuracy: 0.8512\n",
            "Epoch 17/20\n",
            "625/625 [==============================] - 42s 67ms/step - loss: 0.0216 - accuracy: 0.9930 - val_loss: 0.8675 - val_accuracy: 0.8556\n",
            "Epoch 18/20\n",
            "625/625 [==============================] - 42s 67ms/step - loss: 0.0151 - accuracy: 0.9949 - val_loss: 0.9459 - val_accuracy: 0.8378\n",
            "Epoch 19/20\n",
            "625/625 [==============================] - 42s 67ms/step - loss: 0.0121 - accuracy: 0.9963 - val_loss: 0.9522 - val_accuracy: 0.8572\n",
            "Epoch 20/20\n",
            "625/625 [==============================] - 42s 67ms/step - loss: 0.0099 - accuracy: 0.9969 - val_loss: 1.2057 - val_accuracy: 0.8574\n",
            "782/782 [==============================] - 19s 23ms/step - loss: 0.2977 - accuracy: 0.8742\n",
            "Test acc: 0.874\n"
          ]
        }
      ],
      "source": [
        "callbacks = [\n",
        "    keras.callbacks.ModelCheckpoint(\"transformer_encoder.keras\",\n",
        "                                    save_best_only=True)\n",
        "]\n",
        "model.fit(int_train_ds, validation_data=int_val_ds, epochs=20, callbacks=callbacks)\n",
        "model = keras.models.load_model(\n",
        "    \"transformer_encoder.keras\",\n",
        "    custom_objects={\"TransformerEncoder\": TransformerEncoder})\n",
        "print(f\"Test acc: {model.evaluate(int_test_ds)[1]:.3f}\")"
      ]
    },
    {
      "cell_type": "markdown",
      "source": [
        "La precion del modelo anterior es de aproximadamente 85%. \n",
        "\n",
        "El codificador transformer no es un modelo de secuencias, es decir importa el orden de los datos y el contexto"
      ],
      "metadata": {
        "id": "f75d0v9YpjVj"
      }
    },
    {
      "cell_type": "markdown",
      "metadata": {
        "id": "2j_g7htFnA1T"
      },
      "source": [
        "#### Using positional encoding to re-inject order information"
      ]
    },
    {
      "cell_type": "markdown",
      "metadata": {
        "id": "dTWlwTaXnA1T"
      },
      "source": [
        "**Implementing positional embedding as a subclassed layer**\n",
        "\n",
        "la siguinete celda genera una especie de vectorizacion de las palabras"
      ]
    },
    {
      "cell_type": "code",
      "execution_count": 13,
      "metadata": {
        "id": "3lHx40oKnA1U"
      },
      "outputs": [],
      "source": [
        "class PositionalEmbedding(layers.Layer):\n",
        "    def __init__(self, sequence_length, input_dim, output_dim, **kwargs):\n",
        "        super().__init__(**kwargs)\n",
        "        self.token_embeddings = layers.Embedding(\n",
        "            input_dim=input_dim, output_dim=output_dim)\n",
        "        self.position_embeddings = layers.Embedding(\n",
        "            input_dim=sequence_length, output_dim=output_dim)\n",
        "        self.sequence_length = sequence_length\n",
        "        self.input_dim = input_dim\n",
        "        self.output_dim = output_dim\n",
        "\n",
        "    def call(self, inputs):\n",
        "        length = tf.shape(inputs)[-1]\n",
        "        positions = tf.range(start=0, limit=length, delta=1)\n",
        "        embedded_tokens = self.token_embeddings(inputs)\n",
        "        embedded_positions = self.position_embeddings(positions)\n",
        "        return embedded_tokens + embedded_positions\n",
        "\n",
        "    def compute_mask(self, inputs, mask=None):\n",
        "        return tf.math.not_equal(inputs, 0)\n",
        "\n",
        "    def get_config(self):\n",
        "        config = super().get_config()\n",
        "        config.update({\n",
        "            \"output_dim\": self.output_dim,\n",
        "            \"sequence_length\": self.sequence_length,\n",
        "            \"input_dim\": self.input_dim,\n",
        "        })\n",
        "        return config"
      ]
    },
    {
      "cell_type": "markdown",
      "metadata": {
        "id": "otkfiDwgnA1V"
      },
      "source": [
        "#### Putting it all together: A text-classification Transformer"
      ]
    },
    {
      "cell_type": "markdown",
      "metadata": {
        "id": "ChLNGJW6nA1V"
      },
      "source": [
        "**Combining the Transformer encoder with positional embedding**"
      ]
    },
    {
      "cell_type": "code",
      "execution_count": 14,
      "metadata": {
        "id": "593acm9WnA1W",
        "colab": {
          "base_uri": "https://localhost:8080/"
        },
        "outputId": "e2b8b843-fa82-463a-e116-8e24623c049b"
      },
      "outputs": [
        {
          "output_type": "stream",
          "name": "stdout",
          "text": [
            "Model: \"model_1\"\n",
            "_________________________________________________________________\n",
            " Layer (type)                Output Shape              Param #   \n",
            "=================================================================\n",
            " input_2 (InputLayer)        [(None, None)]            0         \n",
            "                                                                 \n",
            " positional_embedding (Posit  (None, None, 256)        5273600   \n",
            " ionalEmbedding)                                                 \n",
            "                                                                 \n",
            " transformer_encoder_1 (Tran  (None, None, 256)        543776    \n",
            " sformerEncoder)                                                 \n",
            "                                                                 \n",
            " global_max_pooling1d_1 (Glo  (None, 256)              0         \n",
            " balMaxPooling1D)                                                \n",
            "                                                                 \n",
            " dropout_1 (Dropout)         (None, 256)               0         \n",
            "                                                                 \n",
            " dense_7 (Dense)             (None, 1)                 257       \n",
            "                                                                 \n",
            "=================================================================\n",
            "Total params: 5,817,633\n",
            "Trainable params: 5,817,633\n",
            "Non-trainable params: 0\n",
            "_________________________________________________________________\n",
            "Epoch 1/20\n",
            "625/625 [==============================] - 46s 70ms/step - loss: 0.4704 - accuracy: 0.7851 - val_loss: 0.2985 - val_accuracy: 0.8752\n",
            "Epoch 2/20\n",
            "625/625 [==============================] - 42s 68ms/step - loss: 0.2284 - accuracy: 0.9129 - val_loss: 0.3142 - val_accuracy: 0.8846\n",
            "Epoch 3/20\n",
            "625/625 [==============================] - 43s 69ms/step - loss: 0.1738 - accuracy: 0.9348 - val_loss: 0.3831 - val_accuracy: 0.8862\n",
            "Epoch 4/20\n",
            "625/625 [==============================] - 44s 70ms/step - loss: 0.1418 - accuracy: 0.9487 - val_loss: 0.4042 - val_accuracy: 0.8866\n",
            "Epoch 5/20\n",
            "625/625 [==============================] - 44s 69ms/step - loss: 0.1207 - accuracy: 0.9571 - val_loss: 0.5053 - val_accuracy: 0.8738\n",
            "Epoch 6/20\n",
            "625/625 [==============================] - 44s 70ms/step - loss: 0.1071 - accuracy: 0.9614 - val_loss: 0.4418 - val_accuracy: 0.8650\n",
            "Epoch 7/20\n",
            "625/625 [==============================] - 43s 68ms/step - loss: 0.0995 - accuracy: 0.9643 - val_loss: 0.4066 - val_accuracy: 0.8804\n",
            "Epoch 8/20\n",
            "625/625 [==============================] - 44s 70ms/step - loss: 0.0874 - accuracy: 0.9711 - val_loss: 0.5025 - val_accuracy: 0.8776\n",
            "Epoch 9/20\n",
            "625/625 [==============================] - 44s 70ms/step - loss: 0.0819 - accuracy: 0.9729 - val_loss: 0.4675 - val_accuracy: 0.8726\n",
            "Epoch 10/20\n",
            "625/625 [==============================] - 44s 69ms/step - loss: 0.0726 - accuracy: 0.9761 - val_loss: 0.4983 - val_accuracy: 0.8748\n",
            "Epoch 11/20\n",
            "625/625 [==============================] - 43s 69ms/step - loss: 0.0657 - accuracy: 0.9788 - val_loss: 0.5969 - val_accuracy: 0.8700\n",
            "Epoch 12/20\n",
            "625/625 [==============================] - 44s 70ms/step - loss: 0.0597 - accuracy: 0.9808 - val_loss: 0.6596 - val_accuracy: 0.8534\n",
            "Epoch 13/20\n",
            "625/625 [==============================] - 43s 69ms/step - loss: 0.0545 - accuracy: 0.9834 - val_loss: 0.5815 - val_accuracy: 0.8626\n",
            "Epoch 14/20\n",
            "625/625 [==============================] - 43s 69ms/step - loss: 0.0474 - accuracy: 0.9848 - val_loss: 0.4524 - val_accuracy: 0.8734\n",
            "Epoch 15/20\n",
            "625/625 [==============================] - 43s 69ms/step - loss: 0.0450 - accuracy: 0.9854 - val_loss: 0.5928 - val_accuracy: 0.8690\n",
            "Epoch 16/20\n",
            "625/625 [==============================] - 42s 68ms/step - loss: 0.0380 - accuracy: 0.9890 - val_loss: 0.7082 - val_accuracy: 0.8656\n",
            "Epoch 17/20\n",
            "625/625 [==============================] - 43s 69ms/step - loss: 0.0361 - accuracy: 0.9893 - val_loss: 0.7975 - val_accuracy: 0.8686\n",
            "Epoch 18/20\n",
            "625/625 [==============================] - 43s 69ms/step - loss: 0.0303 - accuracy: 0.9916 - val_loss: 0.7093 - val_accuracy: 0.8630\n",
            "Epoch 19/20\n",
            "625/625 [==============================] - 44s 70ms/step - loss: 0.0286 - accuracy: 0.9915 - val_loss: 0.7280 - val_accuracy: 0.8696\n",
            "Epoch 20/20\n",
            "625/625 [==============================] - 44s 71ms/step - loss: 0.0260 - accuracy: 0.9924 - val_loss: 0.7823 - val_accuracy: 0.8680\n",
            "782/782 [==============================] - 30s 37ms/step - loss: 0.3111 - accuracy: 0.8670\n",
            "Test acc: 0.867\n"
          ]
        }
      ],
      "source": [
        "vocab_size = 20000\n",
        "sequence_length = 600\n",
        "embed_dim = 256\n",
        "num_heads = 2\n",
        "dense_dim = 32\n",
        "\n",
        "inputs = keras.Input(shape=(None,), dtype=\"int64\")\n",
        "x = PositionalEmbedding(sequence_length, vocab_size, embed_dim)(inputs) #funcion de vectorizacion\n",
        "x = TransformerEncoder(embed_dim, dense_dim, num_heads)(x)\n",
        "x = layers.GlobalMaxPooling1D()(x)\n",
        "x = layers.Dropout(0.5)(x)\n",
        "outputs = layers.Dense(1, activation=\"sigmoid\")(x)\n",
        "model = keras.Model(inputs, outputs)\n",
        "model.compile(optimizer=\"rmsprop\",\n",
        "              loss=\"binary_crossentropy\",\n",
        "              metrics=[\"accuracy\"])\n",
        "model.summary()\n",
        "\n",
        "callbacks = [\n",
        "    keras.callbacks.ModelCheckpoint(\"full_transformer_encoder.keras\",\n",
        "                                    save_best_only=True)\n",
        "]\n",
        "model.fit(int_train_ds, validation_data=int_val_ds, epochs=20, callbacks=callbacks)\n",
        "model = keras.models.load_model(\n",
        "    \"full_transformer_encoder.keras\",\n",
        "    custom_objects={\"TransformerEncoder\": TransformerEncoder,\n",
        "                    \"PositionalEmbedding\": PositionalEmbedding})\n",
        "print(f\"Test acc: {model.evaluate(int_test_ds)[1]:.3f}\")"
      ]
    },
    {
      "cell_type": "markdown",
      "metadata": {
        "id": "0s8Q1a83nA1X"
      },
      "source": [
        "### When to use sequence models over bag-of-words models?"
      ]
    },
    {
      "cell_type": "markdown",
      "source": [
        "si el numero de muestras entre el promedio de largo de muestras es mayor a 1500 usa un modelo secuencial su es menor a 1500 entonces unos bigramas"
      ],
      "metadata": {
        "id": "QWOD5Yqer5jE"
      }
    },
    {
      "cell_type": "code",
      "source": [
        ""
      ],
      "metadata": {
        "id": "JudzHTB2sM94"
      },
      "execution_count": null,
      "outputs": []
    }
  ],
  "metadata": {
    "colab": {
      "collapsed_sections": [],
      "name": "cl9_transformer.i",
      "provenance": []
    },
    "kernelspec": {
      "display_name": "Python 3",
      "language": "python",
      "name": "python3"
    },
    "language_info": {
      "codemirror_mode": {
        "name": "ipython",
        "version": 3
      },
      "file_extension": ".py",
      "mimetype": "text/x-python",
      "name": "python",
      "nbconvert_exporter": "python",
      "pygments_lexer": "ipython3",
      "version": "3.7.0"
    },
    "accelerator": "GPU"
  },
  "nbformat": 4,
  "nbformat_minor": 0
}