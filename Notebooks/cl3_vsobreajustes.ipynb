{
 "cells": [
  {
   "cell_type": "markdown",
   "metadata": {
    "colab_type": "text"
   },
   "source": [
    "This is a companion notebook for the book [Deep Learning with Python, Second Edition](https://www.manning.com/books/deep-learning-with-python-second-edition?a_aid=keras&a_bid=76564dff). For readability, it only contains runnable code blocks and section titles, and omits everything else in the book: text paragraphs, figures, and pseudocode.\n",
    "\n",
    "**If you want to be able to follow what's going on, I recommend reading the notebook side by side with your copy of the book.**\n",
    "\n",
    "This notebook was generated for TensorFlow 2.6."
   ]
  },
  {
   "cell_type": "markdown",
   "metadata": {
    "colab_type": "text"
   },
   "source": [
    "# Fundamentals of machine learning"
   ]
  },
  {
   "cell_type": "markdown",
   "metadata": {
    "colab_type": "text"
   },
   "source": [
    "## Generalization: The goal of machine learning"
   ]
  },
  {
   "cell_type": "markdown",
   "metadata": {
    "colab_type": "text"
   },
   "source": [
    "### Underfitting and overfitting"
   ]
  },
  {
   "cell_type": "markdown",
   "metadata": {
    "colab_type": "text"
   },
   "source": [
    "#### Noisy training data"
   ]
  },
  {
   "cell_type": "markdown",
   "metadata": {
    "colab_type": "text"
   },
   "source": [
    "#### Ambiguous features"
   ]
  },
  {
   "cell_type": "markdown",
   "metadata": {
    "colab_type": "text"
   },
   "source": [
    "#### Rare features and spurious correlations"
   ]
  },
  {
   "cell_type": "markdown",
   "metadata": {
    "colab_type": "text"
   },
   "source": [
    "**Adding white-noise channels or all-zeros channels to MNIST**"
   ]
  },
  {
   "cell_type": "code",
   "execution_count": 1,
   "metadata": {
    "colab_type": "code"
   },
   "outputs": [],
   "source": [
    "from tensorflow.keras.datasets import mnist\n",
    "import numpy as np\n",
    "\n",
    "(train_images, train_labels), _ = mnist.load_data()\n",
    "train_images = train_images.reshape((60000, 28 * 28))\n",
    "train_images = train_images.astype(\"float32\") / 255\n",
    "\n",
    "#creando imagenes dummies con valores aleatorios\n",
    "train_images_with_noise_channels = np.concatenate(\n",
    "    [train_images, np.random.random((len(train_images), 784))], axis=1)\n",
    "\n",
    "# imagenes con puros ceros \n",
    "train_images_with_zeros_channels = np.concatenate(\n",
    "    [train_images, np.zeros((len(train_images), 784))], axis=1)"
   ]
  },
  {
   "cell_type": "markdown",
   "metadata": {
    "colab_type": "text"
   },
   "source": [
    "**Training the same model on MNIST data with noise channels or all-zero channels**"
   ]
  },
  {
   "cell_type": "code",
   "execution_count": 2,
   "metadata": {
    "colab_type": "code"
   },
   "outputs": [
    {
     "name": "stdout",
     "output_type": "stream",
     "text": [
      "Epoch 1/10\n",
      "375/375 [==============================] - 7s 16ms/step - loss: 0.6154 - accuracy: 0.8116 - val_loss: 0.2882 - val_accuracy: 0.9129\n",
      "Epoch 2/10\n",
      "375/375 [==============================] - 6s 15ms/step - loss: 0.2449 - accuracy: 0.9241 - val_loss: 0.1717 - val_accuracy: 0.9487\n",
      "Epoch 3/10\n",
      "375/375 [==============================] - 5s 15ms/step - loss: 0.1584 - accuracy: 0.9516 - val_loss: 0.1366 - val_accuracy: 0.9588\n",
      "Epoch 4/10\n",
      "375/375 [==============================] - 5s 14ms/step - loss: 0.1124 - accuracy: 0.9656 - val_loss: 0.1335 - val_accuracy: 0.9608\n",
      "Epoch 5/10\n",
      "375/375 [==============================] - 5s 14ms/step - loss: 0.0816 - accuracy: 0.9735 - val_loss: 0.1501 - val_accuracy: 0.9565\n",
      "Epoch 6/10\n",
      "375/375 [==============================] - 6s 15ms/step - loss: 0.0609 - accuracy: 0.9807 - val_loss: 0.1227 - val_accuracy: 0.9660\n",
      "Epoch 7/10\n",
      "375/375 [==============================] - 5s 14ms/step - loss: 0.0449 - accuracy: 0.9853 - val_loss: 0.1240 - val_accuracy: 0.9669\n",
      "Epoch 8/10\n",
      "375/375 [==============================] - 6s 15ms/step - loss: 0.0342 - accuracy: 0.9884 - val_loss: 0.1253 - val_accuracy: 0.9673\n",
      "Epoch 9/10\n",
      "375/375 [==============================] - 6s 15ms/step - loss: 0.0263 - accuracy: 0.9914 - val_loss: 0.1439 - val_accuracy: 0.9653\n",
      "Epoch 10/10\n",
      "375/375 [==============================] - 6s 16ms/step - loss: 0.0209 - accuracy: 0.9935 - val_loss: 0.1441 - val_accuracy: 0.9676\n",
      "Epoch 1/10\n",
      "375/375 [==============================] - 6s 16ms/step - loss: 0.2889 - accuracy: 0.9165 - val_loss: 0.1462 - val_accuracy: 0.9583\n",
      "Epoch 2/10\n",
      "375/375 [==============================] - 6s 15ms/step - loss: 0.1190 - accuracy: 0.9654 - val_loss: 0.1037 - val_accuracy: 0.9694\n",
      "Epoch 3/10\n",
      "375/375 [==============================] - 6s 15ms/step - loss: 0.0773 - accuracy: 0.9775 - val_loss: 0.0996 - val_accuracy: 0.9694\n",
      "Epoch 4/10\n",
      "375/375 [==============================] - 6s 17ms/step - loss: 0.0565 - accuracy: 0.9834 - val_loss: 0.0904 - val_accuracy: 0.9738\n",
      "Epoch 5/10\n",
      "375/375 [==============================] - 6s 17ms/step - loss: 0.0418 - accuracy: 0.9880 - val_loss: 0.0802 - val_accuracy: 0.9768\n",
      "Epoch 6/10\n",
      "375/375 [==============================] - 6s 16ms/step - loss: 0.0318 - accuracy: 0.9905 - val_loss: 0.0764 - val_accuracy: 0.9783\n",
      "Epoch 7/10\n",
      "375/375 [==============================] - 6s 16ms/step - loss: 0.0238 - accuracy: 0.9932 - val_loss: 0.0879 - val_accuracy: 0.9767\n",
      "Epoch 8/10\n",
      "375/375 [==============================] - 6s 16ms/step - loss: 0.0190 - accuracy: 0.9942 - val_loss: 0.0842 - val_accuracy: 0.9782\n",
      "Epoch 9/10\n",
      "375/375 [==============================] - 6s 16ms/step - loss: 0.0140 - accuracy: 0.9963 - val_loss: 0.0896 - val_accuracy: 0.9787\n",
      "Epoch 10/10\n",
      "375/375 [==============================] - 6s 16ms/step - loss: 0.0102 - accuracy: 0.9973 - val_loss: 0.1008 - val_accuracy: 0.9769\n"
     ]
    }
   ],
   "source": [
    "from tensorflow import keras\n",
    "from tensorflow.keras import layers\n",
    "\n",
    "def get_model():\n",
    "    model = keras.Sequential([\n",
    "        layers.Dense(512, activation = \"relu\"),\n",
    "        layers.Dense(10, activation = \"softmax\")\n",
    "    ])\n",
    "    model.compile(optimizer = \"rmsprop\",\n",
    "                  loss = \"sparse_categorical_crossentropy\",\n",
    "                  metrics = [\"accuracy\"])\n",
    "    return model\n",
    "\n",
    "# modelo con imagenes generadas a partir de valores aleatorios\n",
    "model = get_model()\n",
    "history_noise = model.fit(\n",
    "    train_images_with_noise_channels, train_labels,\n",
    "    epochs=10,\n",
    "    batch_size=128,\n",
    "    validation_split=0.2)\n",
    "\n",
    "# modelo con imagenes generadas con puros ceros\n",
    "model = get_model()\n",
    "history_zeros = model.fit(\n",
    "    train_images_with_zeros_channels, train_labels,\n",
    "    epochs=10,\n",
    "    batch_size=128,\n",
    "    validation_split=0.2)"
   ]
  },
  {
   "cell_type": "markdown",
   "metadata": {
    "colab_type": "text"
   },
   "source": [
    "**Plotting a validation accuracy comparison**"
   ]
  },
  {
   "cell_type": "code",
   "execution_count": 12,
   "metadata": {
    "colab_type": "code"
   },
   "outputs": [
    {
     "data": {
      "image/png": "[encoded data removed]",
      "text/plain": [
       "<Figure size 640x480 with 1 Axes>"
      ]
     },
     "metadata": {},
     "output_type": "display_data"
    }
   ],
   "source": [
    "import matplotlib.pyplot as plt\n",
    "val_acc_noise = history_noise.history[\"val_accuracy\"]\n",
    "val_acc_zeros = history_zeros.history[\"val_accuracy\"]\n",
    "epochs = range(1, 11)\n",
    "plt.plot(epochs, val_acc_noise, \"b-\",\n",
    "         label=\"Validation accuracy with noise channels\")\n",
    "plt.plot(epochs, val_acc_zeros, \"b--\",\n",
    "         label=\"Validation accuracy with zeros channels\")\n",
    "plt.title(\"Effect of noise channels on validation accuracy\")\n",
    "plt.xlabel(\"Epochs\")\n",
    "plt.ylabel(\"Accuracy\")\n",
    "plt.legend()\n",
    "plt.show();"
   ]
  },
  {
   "cell_type": "markdown",
   "metadata": {
    "colab_type": "text"
   },
   "source": [
    "### The nature of generalization in deep learning"
   ]
  },
  {
   "cell_type": "markdown",
   "metadata": {
    "colab_type": "text"
   },
   "source": [
    "**Fitting a MNIST model with randomly shuffled labels**"
   ]
  },
  {
   "cell_type": "code",
   "execution_count": 4,
   "metadata": {
    "colab_type": "code"
   },
   "outputs": [
    {
     "name": "stdout",
     "output_type": "stream",
     "text": [
      "Epoch 1/100\n",
      "375/375 [==============================] - 4s 9ms/step - loss: 2.3167 - accuracy: 0.1022 - val_loss: 2.3089 - val_accuracy: 0.1086\n",
      "Epoch 2/100\n",
      "375/375 [==============================] - 3s 9ms/step - loss: 2.2996 - accuracy: 0.1179 - val_loss: 2.3110 - val_accuracy: 0.1037\n",
      "Epoch 3/100\n",
      "375/375 [==============================] - 3s 8ms/step - loss: 2.2906 - accuracy: 0.1274 - val_loss: 2.3194 - val_accuracy: 0.1024\n",
      "Epoch 4/100\n",
      "375/375 [==============================] - 3s 8ms/step - loss: 2.2774 - accuracy: 0.1400 - val_loss: 2.3249 - val_accuracy: 0.1038\n",
      "Epoch 5/100\n",
      "375/375 [==============================] - 3s 8ms/step - loss: 2.2611 - accuracy: 0.1552 - val_loss: 2.3341 - val_accuracy: 0.1056\n",
      "Epoch 6/100\n",
      "375/375 [==============================] - 3s 8ms/step - loss: 2.2395 - accuracy: 0.1676 - val_loss: 2.3491 - val_accuracy: 0.1038\n",
      "Epoch 7/100\n",
      "375/375 [==============================] - 3s 9ms/step - loss: 2.2156 - accuracy: 0.1837 - val_loss: 2.3600 - val_accuracy: 0.1027\n",
      "Epoch 8/100\n",
      "375/375 [==============================] - 3s 8ms/step - loss: 2.1879 - accuracy: 0.2000 - val_loss: 2.3866 - val_accuracy: 0.0996\n",
      "Epoch 9/100\n",
      "375/375 [==============================] - 3s 8ms/step - loss: 2.1581 - accuracy: 0.2127 - val_loss: 2.4089 - val_accuracy: 0.0973\n",
      "Epoch 10/100\n",
      "375/375 [==============================] - 3s 8ms/step - loss: 2.1271 - accuracy: 0.2304 - val_loss: 2.4210 - val_accuracy: 0.0993\n",
      "Epoch 11/100\n",
      "375/375 [==============================] - 3s 9ms/step - loss: 2.0932 - accuracy: 0.2456 - val_loss: 2.4452 - val_accuracy: 0.1041\n",
      "Epoch 12/100\n",
      "375/375 [==============================] - 3s 9ms/step - loss: 2.0594 - accuracy: 0.2608 - val_loss: 2.4741 - val_accuracy: 0.0964\n",
      "Epoch 13/100\n",
      "375/375 [==============================] - 4s 10ms/step - loss: 2.0230 - accuracy: 0.2799 - val_loss: 2.5024 - val_accuracy: 0.0942\n",
      "Epoch 14/100\n",
      "375/375 [==============================] - 4s 9ms/step - loss: 1.9886 - accuracy: 0.2928 - val_loss: 2.5215 - val_accuracy: 0.0937\n",
      "Epoch 15/100\n",
      "375/375 [==============================] - 3s 9ms/step - loss: 1.9519 - accuracy: 0.3102 - val_loss: 2.5645 - val_accuracy: 0.1009\n",
      "Epoch 16/100\n",
      "375/375 [==============================] - 4s 10ms/step - loss: 1.9188 - accuracy: 0.3229 - val_loss: 2.6032 - val_accuracy: 0.0992\n",
      "Epoch 17/100\n",
      "375/375 [==============================] - 3s 8ms/step - loss: 1.8832 - accuracy: 0.3381 - val_loss: 2.6337 - val_accuracy: 0.0967\n",
      "Epoch 18/100\n",
      "375/375 [==============================] - 3s 9ms/step - loss: 1.8472 - accuracy: 0.3509 - val_loss: 2.6857 - val_accuracy: 0.0981\n",
      "Epoch 19/100\n",
      "375/375 [==============================] - 3s 8ms/step - loss: 1.8155 - accuracy: 0.3648 - val_loss: 2.7130 - val_accuracy: 0.0958\n",
      "Epoch 20/100\n",
      "375/375 [==============================] - 3s 8ms/step - loss: 1.7823 - accuracy: 0.3810 - val_loss: 2.7502 - val_accuracy: 0.0939\n",
      "Epoch 21/100\n",
      "375/375 [==============================] - 3s 8ms/step - loss: 1.7509 - accuracy: 0.3914 - val_loss: 2.7725 - val_accuracy: 0.0986\n",
      "Epoch 22/100\n",
      "375/375 [==============================] - 3s 8ms/step - loss: 1.7191 - accuracy: 0.4042 - val_loss: 2.8224 - val_accuracy: 0.0964\n",
      "Epoch 23/100\n",
      "375/375 [==============================] - 3s 8ms/step - loss: 1.6887 - accuracy: 0.4134 - val_loss: 2.8584 - val_accuracy: 0.0932\n",
      "Epoch 24/100\n",
      "375/375 [==============================] - 3s 8ms/step - loss: 1.6584 - accuracy: 0.4253 - val_loss: 2.9049 - val_accuracy: 0.0978\n",
      "Epoch 25/100\n",
      "375/375 [==============================] - 3s 9ms/step - loss: 1.6293 - accuracy: 0.4365 - val_loss: 2.9398 - val_accuracy: 0.0932\n",
      "Epoch 26/100\n",
      "375/375 [==============================] - 3s 8ms/step - loss: 1.5996 - accuracy: 0.4498 - val_loss: 2.9829 - val_accuracy: 0.1007\n",
      "Epoch 27/100\n",
      "375/375 [==============================] - 3s 9ms/step - loss: 1.5705 - accuracy: 0.4590 - val_loss: 3.0248 - val_accuracy: 0.1008\n",
      "Epoch 28/100\n",
      "375/375 [==============================] - 3s 9ms/step - loss: 1.5421 - accuracy: 0.4703 - val_loss: 3.0814 - val_accuracy: 0.0995\n",
      "Epoch 29/100\n",
      "375/375 [==============================] - 4s 11ms/step - loss: 1.5154 - accuracy: 0.4824 - val_loss: 3.1270 - val_accuracy: 0.0972\n",
      "Epoch 30/100\n",
      "375/375 [==============================] - 4s 11ms/step - loss: 1.4879 - accuracy: 0.4868 - val_loss: 3.1746 - val_accuracy: 0.0950\n",
      "Epoch 31/100\n",
      "375/375 [==============================] - 4s 10ms/step - loss: 1.4619 - accuracy: 0.4996 - val_loss: 3.2331 - val_accuracy: 0.0986\n",
      "Epoch 32/100\n",
      "375/375 [==============================] - 4s 10ms/step - loss: 1.4396 - accuracy: 0.5084 - val_loss: 3.2681 - val_accuracy: 0.0965\n",
      "Epoch 33/100\n",
      "375/375 [==============================] - 4s 11ms/step - loss: 1.4151 - accuracy: 0.5184 - val_loss: 3.3330 - val_accuracy: 0.0953\n",
      "Epoch 34/100\n",
      "375/375 [==============================] - 4s 11ms/step - loss: 1.3895 - accuracy: 0.5247 - val_loss: 3.3520 - val_accuracy: 0.0993\n",
      "Epoch 35/100\n",
      "375/375 [==============================] - 4s 11ms/step - loss: 1.3656 - accuracy: 0.5369 - val_loss: 3.3843 - val_accuracy: 0.0954\n",
      "Epoch 36/100\n",
      "375/375 [==============================] - 4s 11ms/step - loss: 1.3422 - accuracy: 0.5457 - val_loss: 3.4410 - val_accuracy: 0.1010\n",
      "Epoch 37/100\n",
      "375/375 [==============================] - 4s 12ms/step - loss: 1.3196 - accuracy: 0.5531 - val_loss: 3.4895 - val_accuracy: 0.1003\n",
      "Epoch 38/100\n",
      "375/375 [==============================] - 4s 12ms/step - loss: 1.2972 - accuracy: 0.5586 - val_loss: 3.5249 - val_accuracy: 0.0985\n",
      "Epoch 39/100\n",
      "375/375 [==============================] - 4s 11ms/step - loss: 1.2769 - accuracy: 0.5677 - val_loss: 3.5675 - val_accuracy: 0.0983\n",
      "Epoch 40/100\n",
      "375/375 [==============================] - 4s 10ms/step - loss: 1.2546 - accuracy: 0.5749 - val_loss: 3.6438 - val_accuracy: 0.1006\n",
      "Epoch 41/100\n",
      "375/375 [==============================] - 3s 9ms/step - loss: 1.2341 - accuracy: 0.5794 - val_loss: 3.6902 - val_accuracy: 0.0986\n",
      "Epoch 42/100\n",
      "375/375 [==============================] - 5s 15ms/step - loss: 1.2130 - accuracy: 0.5886 - val_loss: 3.7911 - val_accuracy: 0.1013\n",
      "Epoch 43/100\n",
      "375/375 [==============================] - 4s 12ms/step - loss: 1.1953 - accuracy: 0.5951 - val_loss: 3.7934 - val_accuracy: 0.0972\n",
      "Epoch 44/100\n",
      "375/375 [==============================] - 4s 10ms/step - loss: 1.1729 - accuracy: 0.6045 - val_loss: 3.8519 - val_accuracy: 0.0990\n",
      "Epoch 45/100\n",
      "375/375 [==============================] - 4s 10ms/step - loss: 1.1546 - accuracy: 0.6098 - val_loss: 3.9336 - val_accuracy: 0.0982\n",
      "Epoch 46/100\n",
      "375/375 [==============================] - 4s 10ms/step - loss: 1.1372 - accuracy: 0.6146 - val_loss: 3.9580 - val_accuracy: 0.1006\n",
      "Epoch 47/100\n",
      "375/375 [==============================] - 4s 10ms/step - loss: 1.1156 - accuracy: 0.6250 - val_loss: 4.0045 - val_accuracy: 0.0994\n",
      "Epoch 48/100\n",
      "375/375 [==============================] - 3s 8ms/step - loss: 1.0974 - accuracy: 0.6314 - val_loss: 4.0733 - val_accuracy: 0.1020\n",
      "Epoch 49/100\n",
      "375/375 [==============================] - 3s 8ms/step - loss: 1.0829 - accuracy: 0.6364 - val_loss: 4.1257 - val_accuracy: 0.0997\n",
      "Epoch 50/100\n",
      "375/375 [==============================] - 3s 8ms/step - loss: 1.0649 - accuracy: 0.6426 - val_loss: 4.1616 - val_accuracy: 0.0975\n",
      "Epoch 51/100\n",
      "375/375 [==============================] - 3s 8ms/step - loss: 1.0469 - accuracy: 0.6485 - val_loss: 4.2487 - val_accuracy: 0.0995\n",
      "Epoch 52/100\n",
      "375/375 [==============================] - 3s 8ms/step - loss: 1.0290 - accuracy: 0.6552 - val_loss: 4.3093 - val_accuracy: 0.1013\n",
      "Epoch 53/100\n",
      "375/375 [==============================] - 3s 8ms/step - loss: 1.0145 - accuracy: 0.6591 - val_loss: 4.3675 - val_accuracy: 0.1001\n",
      "Epoch 54/100\n",
      "375/375 [==============================] - 3s 8ms/step - loss: 0.9965 - accuracy: 0.6668 - val_loss: 4.4135 - val_accuracy: 0.1004\n",
      "Epoch 55/100\n",
      "375/375 [==============================] - 3s 8ms/step - loss: 0.9829 - accuracy: 0.6722 - val_loss: 4.4567 - val_accuracy: 0.1027\n",
      "Epoch 56/100\n",
      "375/375 [==============================] - 3s 8ms/step - loss: 0.9645 - accuracy: 0.6774 - val_loss: 4.4915 - val_accuracy: 0.0969\n",
      "Epoch 57/100\n",
      "375/375 [==============================] - 3s 9ms/step - loss: 0.9497 - accuracy: 0.6820 - val_loss: 4.5655 - val_accuracy: 0.0990\n",
      "Epoch 58/100\n",
      "375/375 [==============================] - 4s 10ms/step - loss: 0.9339 - accuracy: 0.6900 - val_loss: 4.6236 - val_accuracy: 0.0991\n",
      "Epoch 59/100\n",
      "375/375 [==============================] - 4s 9ms/step - loss: 0.9211 - accuracy: 0.6931 - val_loss: 4.7084 - val_accuracy: 0.1004\n",
      "Epoch 60/100\n",
      "375/375 [==============================] - 4s 11ms/step - loss: 0.9064 - accuracy: 0.6976 - val_loss: 4.7583 - val_accuracy: 0.0989\n",
      "Epoch 61/100\n",
      "375/375 [==============================] - 4s 10ms/step - loss: 0.8930 - accuracy: 0.7039 - val_loss: 4.7807 - val_accuracy: 0.1004\n",
      "Epoch 62/100\n",
      "375/375 [==============================] - 4s 10ms/step - loss: 0.8789 - accuracy: 0.7079 - val_loss: 4.8812 - val_accuracy: 0.0978\n",
      "Epoch 63/100\n",
      "375/375 [==============================] - 4s 11ms/step - loss: 0.8657 - accuracy: 0.7129 - val_loss: 4.9233 - val_accuracy: 0.1001\n",
      "Epoch 64/100\n",
      "375/375 [==============================] - 4s 10ms/step - loss: 0.8533 - accuracy: 0.7165 - val_loss: 5.0177 - val_accuracy: 0.0997\n",
      "Epoch 65/100\n",
      "375/375 [==============================] - 4s 11ms/step - loss: 0.8399 - accuracy: 0.7221 - val_loss: 5.0157 - val_accuracy: 0.0991\n",
      "Epoch 66/100\n",
      "375/375 [==============================] - 4s 10ms/step - loss: 0.8267 - accuracy: 0.7260 - val_loss: 5.1207 - val_accuracy: 0.0988\n",
      "Epoch 67/100\n",
      "375/375 [==============================] - 4s 10ms/step - loss: 0.8148 - accuracy: 0.7324 - val_loss: 5.2027 - val_accuracy: 0.0976\n",
      "Epoch 68/100\n",
      "375/375 [==============================] - 4s 10ms/step - loss: 0.7997 - accuracy: 0.7364 - val_loss: 5.2165 - val_accuracy: 0.0979\n",
      "Epoch 69/100\n",
      "375/375 [==============================] - 4s 10ms/step - loss: 0.7874 - accuracy: 0.7386 - val_loss: 5.3144 - val_accuracy: 0.1001\n",
      "Epoch 70/100\n",
      "375/375 [==============================] - 4s 10ms/step - loss: 0.7748 - accuracy: 0.7437 - val_loss: 5.4145 - val_accuracy: 0.1001\n",
      "Epoch 71/100\n",
      "375/375 [==============================] - 4s 10ms/step - loss: 0.7654 - accuracy: 0.7488 - val_loss: 5.4268 - val_accuracy: 0.0986\n",
      "Epoch 72/100\n",
      "375/375 [==============================] - 4s 10ms/step - loss: 0.7547 - accuracy: 0.7504 - val_loss: 5.4975 - val_accuracy: 0.0978\n",
      "Epoch 73/100\n",
      "375/375 [==============================] - 4s 10ms/step - loss: 0.7412 - accuracy: 0.7568 - val_loss: 5.5630 - val_accuracy: 0.0982\n",
      "Epoch 74/100\n",
      "375/375 [==============================] - 4s 10ms/step - loss: 0.7323 - accuracy: 0.7593 - val_loss: 5.6090 - val_accuracy: 0.1005\n",
      "Epoch 75/100\n",
      "375/375 [==============================] - 4s 10ms/step - loss: 0.7199 - accuracy: 0.7635 - val_loss: 5.6779 - val_accuracy: 0.0989\n",
      "Epoch 76/100\n",
      "375/375 [==============================] - 4s 10ms/step - loss: 0.7076 - accuracy: 0.7688 - val_loss: 5.7591 - val_accuracy: 0.1031\n",
      "Epoch 77/100\n",
      "375/375 [==============================] - 4s 10ms/step - loss: 0.6984 - accuracy: 0.7702 - val_loss: 5.7959 - val_accuracy: 0.1019\n",
      "Epoch 78/100\n",
      "375/375 [==============================] - 4s 10ms/step - loss: 0.6869 - accuracy: 0.7744 - val_loss: 5.9304 - val_accuracy: 0.0980\n",
      "Epoch 79/100\n",
      "375/375 [==============================] - 4s 10ms/step - loss: 0.6781 - accuracy: 0.7789 - val_loss: 6.0064 - val_accuracy: 0.1002\n",
      "Epoch 80/100\n",
      "375/375 [==============================] - 4s 10ms/step - loss: 0.6693 - accuracy: 0.7825 - val_loss: 6.0388 - val_accuracy: 0.1016\n",
      "Epoch 81/100\n",
      "375/375 [==============================] - 4s 10ms/step - loss: 0.6594 - accuracy: 0.7841 - val_loss: 6.0483 - val_accuracy: 0.1011\n",
      "Epoch 82/100\n",
      "375/375 [==============================] - 4s 10ms/step - loss: 0.6462 - accuracy: 0.7879 - val_loss: 6.1448 - val_accuracy: 0.0967\n",
      "Epoch 83/100\n",
      "375/375 [==============================] - 4s 10ms/step - loss: 0.6398 - accuracy: 0.7931 - val_loss: 6.2545 - val_accuracy: 0.0973\n",
      "Epoch 84/100\n",
      "375/375 [==============================] - 4s 10ms/step - loss: 0.6273 - accuracy: 0.7946 - val_loss: 6.2835 - val_accuracy: 0.1017\n",
      "Epoch 85/100\n",
      "375/375 [==============================] - 4s 10ms/step - loss: 0.6209 - accuracy: 0.7964 - val_loss: 6.3735 - val_accuracy: 0.1024\n",
      "Epoch 86/100\n",
      "375/375 [==============================] - 4s 10ms/step - loss: 0.6112 - accuracy: 0.8008 - val_loss: 6.4708 - val_accuracy: 0.0993\n",
      "Epoch 87/100\n",
      "375/375 [==============================] - 4s 10ms/step - loss: 0.6019 - accuracy: 0.8037 - val_loss: 6.5132 - val_accuracy: 0.1010\n",
      "Epoch 88/100\n",
      "375/375 [==============================] - 4s 10ms/step - loss: 0.5936 - accuracy: 0.8076 - val_loss: 6.5532 - val_accuracy: 0.1021\n",
      "Epoch 89/100\n",
      "375/375 [==============================] - 4s 10ms/step - loss: 0.5849 - accuracy: 0.8109 - val_loss: 6.6420 - val_accuracy: 0.1015\n",
      "Epoch 90/100\n",
      "375/375 [==============================] - 4s 10ms/step - loss: 0.5771 - accuracy: 0.8126 - val_loss: 6.6702 - val_accuracy: 0.1007\n",
      "Epoch 91/100\n",
      "375/375 [==============================] - 4s 10ms/step - loss: 0.5685 - accuracy: 0.8173 - val_loss: 6.7521 - val_accuracy: 0.1031\n",
      "Epoch 92/100\n",
      "375/375 [==============================] - 4s 11ms/step - loss: 0.5592 - accuracy: 0.8174 - val_loss: 6.8488 - val_accuracy: 0.0993\n",
      "Epoch 93/100\n",
      "375/375 [==============================] - 4s 11ms/step - loss: 0.5509 - accuracy: 0.8235 - val_loss: 6.8937 - val_accuracy: 0.0993\n",
      "Epoch 94/100\n",
      "375/375 [==============================] - 4s 10ms/step - loss: 0.5420 - accuracy: 0.8247 - val_loss: 6.9429 - val_accuracy: 0.0973\n",
      "Epoch 95/100\n",
      "375/375 [==============================] - 4s 10ms/step - loss: 0.5366 - accuracy: 0.8281 - val_loss: 7.0363 - val_accuracy: 0.1010\n",
      "Epoch 96/100\n",
      "375/375 [==============================] - 4s 10ms/step - loss: 0.5302 - accuracy: 0.8300 - val_loss: 7.1443 - val_accuracy: 0.1021\n",
      "Epoch 97/100\n",
      "375/375 [==============================] - 4s 10ms/step - loss: 0.5211 - accuracy: 0.8320 - val_loss: 7.2051 - val_accuracy: 0.0994\n",
      "Epoch 98/100\n",
      "375/375 [==============================] - 4s 10ms/step - loss: 0.5131 - accuracy: 0.8342 - val_loss: 7.2505 - val_accuracy: 0.0997\n",
      "Epoch 99/100\n",
      "375/375 [==============================] - 4s 10ms/step - loss: 0.5054 - accuracy: 0.8376 - val_loss: 7.2717 - val_accuracy: 0.1007\n",
      "Epoch 100/100\n",
      "375/375 [==============================] - 4s 10ms/step - loss: 0.4984 - accuracy: 0.8398 - val_loss: 7.4406 - val_accuracy: 0.0994\n"
     ]
    },
    {
     "data": {
      "text/plain": [
       "<keras.callbacks.History at 0x1c5800b6c10>"
      ]
     },
     "execution_count": 4,
     "metadata": {},
     "output_type": "execute_result"
    }
   ],
   "source": [
    "(train_images, train_labels), _ = mnist.load_data()\n",
    "train_images = train_images.reshape((60000, 28 * 28))\n",
    "train_images = train_images.astype(\"float32\") / 255\n",
    "\n",
    "random_train_labels = train_labels[:]\n",
    "np.random.shuffle(random_train_labels) #revolvemos las etiquetas\n",
    "\n",
    "\n",
    "model = keras.Sequential([\n",
    "    layers.Dense(512, activation=\"relu\"),\n",
    "    layers.Dense(10, activation=\"softmax\")\n",
    "])\n",
    "model.compile(optimizer=\"rmsprop\",\n",
    "              loss=\"sparse_categorical_crossentropy\",\n",
    "              metrics=[\"accuracy\"])\n",
    "model.fit(train_images, random_train_labels,\n",
    "          epochs=100,\n",
    "          batch_size=128,\n",
    "          validation_split=0.2)"
   ]
  },
  {
   "cell_type": "markdown",
   "metadata": {},
   "source": [
    "**un modelo malo pues las etiquetas de entrenamiento no correspondían exactamente a los valores que tienen asignados**"
   ]
  },
  {
   "cell_type": "markdown",
   "metadata": {
    "colab_type": "text"
   },
   "source": [
    "#### The manifold hypothesis"
   ]
  },
  {
   "cell_type": "markdown",
   "metadata": {
    "colab_type": "text"
   },
   "source": [
    "#### Interpolation as a source of generalization"
   ]
  },
  {
   "cell_type": "markdown",
   "metadata": {
    "colab_type": "text"
   },
   "source": [
    "#### Why deep learning works"
   ]
  },
  {
   "cell_type": "markdown",
   "metadata": {
    "colab_type": "text"
   },
   "source": [
    "#### Training data is paramount"
   ]
  },
  {
   "cell_type": "markdown",
   "metadata": {
    "colab_type": "text"
   },
   "source": [
    "## Evaluating machine-learning models"
   ]
  },
  {
   "cell_type": "markdown",
   "metadata": {
    "colab_type": "text"
   },
   "source": [
    "### Training, validation, and test sets"
   ]
  },
  {
   "cell_type": "markdown",
   "metadata": {
    "colab_type": "text"
   },
   "source": [
    "#### Simple hold-out validation"
   ]
  },
  {
   "cell_type": "markdown",
   "metadata": {
    "colab_type": "text"
   },
   "source": [
    "#### K-fold validation"
   ]
  },
  {
   "cell_type": "markdown",
   "metadata": {
    "colab_type": "text"
   },
   "source": [
    "#### Iterated K-fold validation with shuffling"
   ]
  },
  {
   "cell_type": "markdown",
   "metadata": {
    "colab_type": "text"
   },
   "source": [
    "### Beating a common-sense baseline"
   ]
  },
  {
   "cell_type": "markdown",
   "metadata": {
    "colab_type": "text"
   },
   "source": [
    "### Things to keep in mind about model evaluation"
   ]
  },
  {
   "cell_type": "markdown",
   "metadata": {
    "colab_type": "text"
   },
   "source": [
    "## Improving model fit"
   ]
  },
  {
   "cell_type": "markdown",
   "metadata": {},
   "source": [
    "reducir la capacidad de la red puede ayudar a no sobre entrenar"
   ]
  },
  {
   "cell_type": "markdown",
   "metadata": {
    "colab_type": "text"
   },
   "source": [
    "### Tuning key gradient descent parameters"
   ]
  },
  {
   "cell_type": "markdown",
   "metadata": {
    "colab_type": "text"
   },
   "source": [
    "**Training a MNIST model with an incorrectly high learning rate**"
   ]
  },
  {
   "cell_type": "code",
   "execution_count": 5,
   "metadata": {
    "colab_type": "code"
   },
   "outputs": [
    {
     "name": "stdout",
     "output_type": "stream",
     "text": [
      "Epoch 1/10\n",
      "375/375 [==============================] - 5s 12ms/step - loss: 734.0765 - accuracy: 0.4244 - val_loss: 21.5873 - val_accuracy: 0.3517\n",
      "Epoch 2/10\n",
      "375/375 [==============================] - 4s 10ms/step - loss: 4.2079 - accuracy: 0.2853 - val_loss: 2.1594 - val_accuracy: 0.2746\n",
      "Epoch 3/10\n",
      "375/375 [==============================] - 4s 11ms/step - loss: 2.8799 - accuracy: 0.2639 - val_loss: 2.4982 - val_accuracy: 0.3067\n",
      "Epoch 4/10\n",
      "375/375 [==============================] - 4s 10ms/step - loss: 4.2320 - accuracy: 0.2790 - val_loss: 2.1603 - val_accuracy: 0.2401\n",
      "Epoch 5/10\n",
      "375/375 [==============================] - 4s 10ms/step - loss: 2.7473 - accuracy: 0.2618 - val_loss: 2.1519 - val_accuracy: 0.2527\n",
      "Epoch 6/10\n",
      "375/375 [==============================] - 4s 10ms/step - loss: 2.5570 - accuracy: 0.2738 - val_loss: 2.0257 - val_accuracy: 0.2696\n",
      "Epoch 7/10\n",
      "375/375 [==============================] - 4s 11ms/step - loss: 2.8759 - accuracy: 0.3042 - val_loss: 4.3999 - val_accuracy: 0.3658\n",
      "Epoch 8/10\n",
      "375/375 [==============================] - 4s 10ms/step - loss: 2.9307 - accuracy: 0.3008 - val_loss: 2.5957 - val_accuracy: 0.3138\n",
      "Epoch 9/10\n",
      "375/375 [==============================] - 4s 10ms/step - loss: 2.5068 - accuracy: 0.2815 - val_loss: 11.4703 - val_accuracy: 0.2886\n",
      "Epoch 10/10\n",
      "375/375 [==============================] - 4s 10ms/step - loss: 2.8294 - accuracy: 0.3054 - val_loss: 4.2802 - val_accuracy: 0.3210\n"
     ]
    },
    {
     "data": {
      "text/plain": [
       "<keras.callbacks.History at 0x1c581a5a9d0>"
      ]
     },
     "execution_count": 5,
     "metadata": {},
     "output_type": "execute_result"
    }
   ],
   "source": [
    "(train_images, train_labels), _ = mnist.load_data()\n",
    "train_images = train_images.reshape((60000, 28 * 28))\n",
    "train_images = train_images.astype(\"float32\") / 255\n",
    "\n",
    "model = keras.Sequential([\n",
    "    layers.Dense(512, activation=\"relu\"), # 512 neuronas \n",
    "    layers.Dense(10, activation=\"softmax\") # 10 neuronas de clasificacion\n",
    "])\n",
    "model.compile(optimizer=keras.optimizers.RMSprop(1.), #tasa de aprendizaje del modelo alta (\"aprendizaje rapido\")\n",
    "              loss=\"sparse_categorical_crossentropy\",\n",
    "              metrics=[\"accuracy\"])\n",
    "model.fit(train_images, train_labels,\n",
    "          epochs=10,\n",
    "          batch_size=128,\n",
    "          validation_split=0.2) # froma compacta de decir que use el 20% de la validación"
   ]
  },
  {
   "cell_type": "markdown",
   "metadata": {},
   "source": [
    "- L1 castiga de forma lineal al peso \n",
    "- L2 castigo de forma cuadrada al peso\n",
    "- Drop-out apaga neuronas"
   ]
  },
  {
   "cell_type": "markdown",
   "metadata": {
    "colab_type": "text"
   },
   "source": [
    "**The same model with a more appropriate learning rate**"
   ]
  },
  {
   "cell_type": "code",
   "execution_count": 6,
   "metadata": {
    "colab_type": "code"
   },
   "outputs": [
    {
     "name": "stdout",
     "output_type": "stream",
     "text": [
      "Epoch 1/10\n",
      "375/375 [==============================] - 5s 11ms/step - loss: 0.3505 - accuracy: 0.9145 - val_loss: 0.1591 - val_accuracy: 0.9569\n",
      "Epoch 2/10\n",
      "375/375 [==============================] - 4s 11ms/step - loss: 0.1434 - accuracy: 0.9637 - val_loss: 0.1413 - val_accuracy: 0.9667\n",
      "Epoch 3/10\n",
      "375/375 [==============================] - 4s 10ms/step - loss: 0.1154 - accuracy: 0.9729 - val_loss: 0.1550 - val_accuracy: 0.9690\n",
      "Epoch 4/10\n",
      "375/375 [==============================] - 4s 10ms/step - loss: 0.1038 - accuracy: 0.9771 - val_loss: 0.1872 - val_accuracy: 0.9696\n",
      "Epoch 5/10\n",
      "375/375 [==============================] - 4s 11ms/step - loss: 0.0917 - accuracy: 0.9804 - val_loss: 0.2214 - val_accuracy: 0.9697\n",
      "Epoch 6/10\n",
      "375/375 [==============================] - 4s 10ms/step - loss: 0.0771 - accuracy: 0.9840 - val_loss: 0.2944 - val_accuracy: 0.9668\n",
      "Epoch 7/10\n",
      "375/375 [==============================] - 4s 10ms/step - loss: 0.0724 - accuracy: 0.9858 - val_loss: 0.2237 - val_accuracy: 0.9737\n",
      "Epoch 8/10\n",
      "375/375 [==============================] - 4s 10ms/step - loss: 0.0699 - accuracy: 0.9872 - val_loss: 0.2381 - val_accuracy: 0.9739\n",
      "Epoch 9/10\n",
      "375/375 [==============================] - 4s 11ms/step - loss: 0.0797 - accuracy: 0.9876 - val_loss: 0.2971 - val_accuracy: 0.9729\n",
      "Epoch 10/10\n",
      "375/375 [==============================] - 4s 10ms/step - loss: 0.0689 - accuracy: 0.9889 - val_loss: 0.3031 - val_accuracy: 0.9743\n"
     ]
    },
    {
     "data": {
      "text/plain": [
       "<keras.callbacks.History at 0x1c581e90af0>"
      ]
     },
     "execution_count": 6,
     "metadata": {},
     "output_type": "execute_result"
    }
   ],
   "source": [
    "model = keras.Sequential([\n",
    "    layers.Dense(512, activation=\"relu\"),\n",
    "    layers.Dense(10, activation=\"softmax\")\n",
    "])\n",
    "\n",
    "model.compile(optimizer=keras.optimizers.RMSprop(1e-2), # tasa de aprendizaje 0.01 \"lenta\"\n",
    "              loss=\"sparse_categorical_crossentropy\",\n",
    "              metrics=[\"accuracy\"])\n",
    "\n",
    "model.fit(train_images, train_labels,\n",
    "          epochs=10,\n",
    "          batch_size=128,\n",
    "          validation_split=0.2)"
   ]
  },
  {
   "cell_type": "markdown",
   "metadata": {},
   "source": [
    "aqui podemos ver que las perdidas son más bajas, esto se debe a la tasa de aprendizaje del algoritmo\n",
    "- un paso pequeño va a llegar al minimo de manera lenta\n",
    "- pasos grandes en la tasa de aprendizaje  encuntra el mínimo más rápido, pero no se garantiza que sea el minimo global"
   ]
  },
  {
   "cell_type": "markdown",
   "metadata": {
    "colab_type": "text"
   },
   "source": [
    "### Leveraging better architecture priors"
   ]
  },
  {
   "cell_type": "markdown",
   "metadata": {
    "colab_type": "text"
   },
   "source": [
    "### Increasing model capacity"
   ]
  },
  {
   "cell_type": "markdown",
   "metadata": {
    "colab_type": "text"
   },
   "source": [
    "**A simple logistic regression on MNIST**"
   ]
  },
  {
   "cell_type": "markdown",
   "metadata": {},
   "source": [
    "Modelo pobre; con solo 10 neuronas (capa de salida), es insuficiente para el aprendizaje"
   ]
  },
  {
   "cell_type": "code",
   "execution_count": 7,
   "metadata": {
    "colab_type": "code"
   },
   "outputs": [
    {
     "name": "stdout",
     "output_type": "stream",
     "text": [
      "Epoch 1/20\n",
      "375/375 [==============================] - 1s 3ms/step - loss: 0.6685 - accuracy: 0.8370 - val_loss: 0.3624 - val_accuracy: 0.9000\n",
      "Epoch 2/20\n",
      "375/375 [==============================] - 1s 2ms/step - loss: 0.3521 - accuracy: 0.9032 - val_loss: 0.3072 - val_accuracy: 0.9154\n",
      "Epoch 3/20\n",
      "375/375 [==============================] - 1s 3ms/step - loss: 0.3160 - accuracy: 0.9119 - val_loss: 0.2899 - val_accuracy: 0.9197\n",
      "Epoch 4/20\n",
      "375/375 [==============================] - 1s 3ms/step - loss: 0.2994 - accuracy: 0.9164 - val_loss: 0.2812 - val_accuracy: 0.9233\n",
      "Epoch 5/20\n",
      "375/375 [==============================] - 1s 3ms/step - loss: 0.2897 - accuracy: 0.9193 - val_loss: 0.2770 - val_accuracy: 0.9227\n",
      "Epoch 6/20\n",
      "375/375 [==============================] - 1s 3ms/step - loss: 0.2830 - accuracy: 0.9208 - val_loss: 0.2725 - val_accuracy: 0.9253\n",
      "Epoch 7/20\n",
      "375/375 [==============================] - 1s 3ms/step - loss: 0.2780 - accuracy: 0.9222 - val_loss: 0.2688 - val_accuracy: 0.9265\n",
      "Epoch 8/20\n",
      "375/375 [==============================] - 1s 3ms/step - loss: 0.2746 - accuracy: 0.9234 - val_loss: 0.2664 - val_accuracy: 0.9273\n",
      "Epoch 9/20\n",
      "375/375 [==============================] - 1s 3ms/step - loss: 0.2717 - accuracy: 0.9244 - val_loss: 0.2657 - val_accuracy: 0.9282\n",
      "Epoch 10/20\n",
      "375/375 [==============================] - 1s 3ms/step - loss: 0.2687 - accuracy: 0.9253 - val_loss: 0.2641 - val_accuracy: 0.9301\n",
      "Epoch 11/20\n",
      "375/375 [==============================] - 1s 3ms/step - loss: 0.2667 - accuracy: 0.9268 - val_loss: 0.2641 - val_accuracy: 0.9287\n",
      "Epoch 12/20\n",
      "375/375 [==============================] - 1s 3ms/step - loss: 0.2647 - accuracy: 0.9269 - val_loss: 0.2624 - val_accuracy: 0.9287\n",
      "Epoch 13/20\n",
      "375/375 [==============================] - 1s 3ms/step - loss: 0.2632 - accuracy: 0.9276 - val_loss: 0.2633 - val_accuracy: 0.9285\n",
      "Epoch 14/20\n",
      "375/375 [==============================] - 1s 3ms/step - loss: 0.2618 - accuracy: 0.9281 - val_loss: 0.2617 - val_accuracy: 0.9302\n",
      "Epoch 15/20\n",
      "375/375 [==============================] - 1s 3ms/step - loss: 0.2607 - accuracy: 0.9283 - val_loss: 0.2617 - val_accuracy: 0.9303\n",
      "Epoch 16/20\n",
      "375/375 [==============================] - 1s 3ms/step - loss: 0.2592 - accuracy: 0.9287 - val_loss: 0.2639 - val_accuracy: 0.9298\n",
      "Epoch 17/20\n",
      "375/375 [==============================] - 1s 3ms/step - loss: 0.2583 - accuracy: 0.9289 - val_loss: 0.2615 - val_accuracy: 0.9308\n",
      "Epoch 18/20\n",
      "375/375 [==============================] - 1s 3ms/step - loss: 0.2574 - accuracy: 0.9301 - val_loss: 0.2629 - val_accuracy: 0.9296\n",
      "Epoch 19/20\n",
      "375/375 [==============================] - 1s 3ms/step - loss: 0.2562 - accuracy: 0.9298 - val_loss: 0.2619 - val_accuracy: 0.9298\n",
      "Epoch 20/20\n",
      "375/375 [==============================] - 1s 3ms/step - loss: 0.2558 - accuracy: 0.9304 - val_loss: 0.2616 - val_accuracy: 0.9302\n"
     ]
    }
   ],
   "source": [
    "\n",
    "model = keras.Sequential([layers.Dense(10, activation=\"softmax\")])\n",
    "\n",
    "model.compile(optimizer=\"rmsprop\",\n",
    "              loss=\"sparse_categorical_crossentropy\",\n",
    "              metrics=[\"accuracy\"])\n",
    "\n",
    "history_small_model = model.fit(\n",
    "    train_images, train_labels,\n",
    "    epochs=20,\n",
    "    batch_size=128,\n",
    "    validation_split=0.2)"
   ]
  },
  {
   "cell_type": "code",
   "execution_count": 11,
   "metadata": {
    "colab_type": "code"
   },
   "outputs": [
    {
     "data": {
      "image/png": "[encoded data removed]",
      "text/plain": [
       "<Figure size 640x480 with 1 Axes>"
      ]
     },
     "metadata": {},
     "output_type": "display_data"
    }
   ],
   "source": [
    "import matplotlib.pyplot as plt\n",
    "val_loss = history_small_model.history[\"val_loss\"]\n",
    "epochs = range(1, 21)\n",
    "plt.plot(epochs, val_loss, \"b--\",\n",
    "         label=\"Validation loss\")\n",
    "plt.title(\"Effect of insufficient model capacity on validation loss\")\n",
    "plt.xlabel(\"Epochs\")\n",
    "plt.ylabel(\"Loss\")\n",
    "plt.legend()\n",
    "plt.show()"
   ]
  },
  {
   "cell_type": "markdown",
   "metadata": {},
   "source": [
    "Esta red no sobreajusta "
   ]
  },
  {
   "cell_type": "code",
   "execution_count": 9,
   "metadata": {
    "colab_type": "code"
   },
   "outputs": [
    {
     "name": "stdout",
     "output_type": "stream",
     "text": [
      "Epoch 1/20\n",
      "375/375 [==============================] - 2s 5ms/step - loss: 0.3646 - accuracy: 0.8960 - val_loss: 0.1929 - val_accuracy: 0.9458\n",
      "Epoch 2/20\n",
      "375/375 [==============================] - 2s 4ms/step - loss: 0.1666 - accuracy: 0.9501 - val_loss: 0.1422 - val_accuracy: 0.9588\n",
      "Epoch 3/20\n",
      "375/375 [==============================] - 1s 4ms/step - loss: 0.1172 - accuracy: 0.9647 - val_loss: 0.1222 - val_accuracy: 0.9655\n",
      "Epoch 4/20\n",
      "375/375 [==============================] - 2s 4ms/step - loss: 0.0899 - accuracy: 0.9729 - val_loss: 0.1061 - val_accuracy: 0.9671\n",
      "Epoch 5/20\n",
      "375/375 [==============================] - 2s 4ms/step - loss: 0.0721 - accuracy: 0.9783 - val_loss: 0.1060 - val_accuracy: 0.9680\n",
      "Epoch 6/20\n",
      "375/375 [==============================] - 2s 4ms/step - loss: 0.0588 - accuracy: 0.9826 - val_loss: 0.1019 - val_accuracy: 0.9712\n",
      "Epoch 7/20\n",
      "375/375 [==============================] - 2s 4ms/step - loss: 0.0501 - accuracy: 0.9846 - val_loss: 0.0941 - val_accuracy: 0.9743\n",
      "Epoch 8/20\n",
      "375/375 [==============================] - 1s 4ms/step - loss: 0.0415 - accuracy: 0.9872 - val_loss: 0.0984 - val_accuracy: 0.9726\n",
      "Epoch 9/20\n",
      "375/375 [==============================] - 1s 4ms/step - loss: 0.0355 - accuracy: 0.9889 - val_loss: 0.0950 - val_accuracy: 0.9742\n",
      "Epoch 10/20\n",
      "375/375 [==============================] - 1s 4ms/step - loss: 0.0311 - accuracy: 0.9906 - val_loss: 0.1053 - val_accuracy: 0.9744\n",
      "Epoch 11/20\n",
      "375/375 [==============================] - 1s 4ms/step - loss: 0.0253 - accuracy: 0.9923 - val_loss: 0.1167 - val_accuracy: 0.9708\n",
      "Epoch 12/20\n",
      "375/375 [==============================] - 2s 4ms/step - loss: 0.0212 - accuracy: 0.9934 - val_loss: 0.1105 - val_accuracy: 0.9752\n",
      "Epoch 13/20\n",
      "375/375 [==============================] - 1s 4ms/step - loss: 0.0177 - accuracy: 0.9941 - val_loss: 0.1176 - val_accuracy: 0.9730\n",
      "Epoch 14/20\n",
      "375/375 [==============================] - 1s 4ms/step - loss: 0.0153 - accuracy: 0.9952 - val_loss: 0.1217 - val_accuracy: 0.9743\n",
      "Epoch 15/20\n",
      "375/375 [==============================] - 1s 4ms/step - loss: 0.0129 - accuracy: 0.9956 - val_loss: 0.1227 - val_accuracy: 0.9728\n",
      "Epoch 16/20\n",
      "375/375 [==============================] - 1s 4ms/step - loss: 0.0109 - accuracy: 0.9965 - val_loss: 0.1287 - val_accuracy: 0.9752\n",
      "Epoch 17/20\n",
      "375/375 [==============================] - 1s 4ms/step - loss: 0.0102 - accuracy: 0.9969 - val_loss: 0.1294 - val_accuracy: 0.9737\n",
      "Epoch 18/20\n",
      "375/375 [==============================] - 1s 4ms/step - loss: 0.0087 - accuracy: 0.9969 - val_loss: 0.1345 - val_accuracy: 0.9744\n",
      "Epoch 19/20\n",
      "375/375 [==============================] - 1s 4ms/step - loss: 0.0077 - accuracy: 0.9976 - val_loss: 0.1355 - val_accuracy: 0.9748\n",
      "Epoch 20/20\n",
      "375/375 [==============================] - 1s 4ms/step - loss: 0.0074 - accuracy: 0.9977 - val_loss: 0.1419 - val_accuracy: 0.9752\n"
     ]
    }
   ],
   "source": [
    "# modelo mejorado con mas capas y mas neuronas\n",
    "model = keras.Sequential([\n",
    "    layers.Dense(96, activation=\"relu\"),\n",
    "    layers.Dense(96, activation=\"relu\"),\n",
    "    layers.Dense(10, activation=\"softmax\"),\n",
    "])\n",
    "model.compile(optimizer=\"rmsprop\",\n",
    "              loss=\"sparse_categorical_crossentropy\",\n",
    "              metrics=[\"accuracy\"])\n",
    "\n",
    "history_large_model = model.fit(\n",
    "    train_images, train_labels,\n",
    "    epochs=20,\n",
    "    batch_size=128,\n",
    "    validation_split=0.2)"
   ]
  },
  {
   "cell_type": "code",
   "execution_count": 13,
   "metadata": {},
   "outputs": [
    {
     "data": {
      "image/png": "[encoded data removed]",
      "text/plain": [
       "<Figure size 640x480 with 1 Axes>"
      ]
     },
     "metadata": {},
     "output_type": "display_data"
    }
   ],
   "source": [
    "import matplotlib.pyplot as plt\n",
    "val_loss = history_small_model.history[\"val_loss\"]\n",
    "epochs = range(1, 21)\n",
    "plt.plot(epochs, val_loss, \"b--\",\n",
    "         label=\"Insuficient capacity validation loss\")\n",
    "plt.title(\"Effect of insufficient model capacity on validation loss\")\n",
    "plt.xlabel(\"Epochs\")\n",
    "plt.ylabel(\"Loss\")\n",
    "\n",
    "val_loss = history_large_model.history[\"val_loss\"]\n",
    "epochs = range(1, 21)\n",
    "plt.plot(epochs, val_loss, \"r:\",\n",
    "         label=\"Apropiate capacity validation loss\")\n",
    "\n",
    "plt.legend()\n",
    "plt.show();"
   ]
  },
  {
   "cell_type": "markdown",
   "metadata": {},
   "source": [
    "Cuando la curva de la perdida empieza a subir nos indica que empieza a sobreajustar"
   ]
  },
  {
   "cell_type": "markdown",
   "metadata": {
    "colab_type": "text"
   },
   "source": [
    "## Improving generalization"
   ]
  },
  {
   "cell_type": "markdown",
   "metadata": {
    "colab_type": "text"
   },
   "source": [
    "### Dataset curation"
   ]
  },
  {
   "cell_type": "markdown",
   "metadata": {
    "colab_type": "text"
   },
   "source": [
    "### Feature engineering"
   ]
  },
  {
   "cell_type": "markdown",
   "metadata": {
    "colab_type": "text"
   },
   "source": [
    "### Using early stopping"
   ]
  },
  {
   "cell_type": "markdown",
   "metadata": {
    "colab_type": "text"
   },
   "source": [
    "### Regularizing your model"
   ]
  },
  {
   "cell_type": "markdown",
   "metadata": {
    "colab_type": "text"
   },
   "source": [
    "#### Reducing the network's size"
   ]
  },
  {
   "cell_type": "markdown",
   "metadata": {
    "colab_type": "text"
   },
   "source": [
    "**Original model**"
   ]
  },
  {
   "cell_type": "code",
   "execution_count": 15,
   "metadata": {
    "colab_type": "code"
   },
   "outputs": [
    {
     "name": "stdout",
     "output_type": "stream",
     "text": [
      "Epoch 1/20\n",
      "30/30 [==============================] - 4s 91ms/step - loss: 0.5267 - accuracy: 0.7846 - val_loss: 0.3963 - val_accuracy: 0.8739\n",
      "Epoch 2/20\n",
      "30/30 [==============================] - 1s 32ms/step - loss: 0.3195 - accuracy: 0.9008 - val_loss: 0.3405 - val_accuracy: 0.8631\n",
      "Epoch 3/20\n",
      "30/30 [==============================] - 1s 31ms/step - loss: 0.2334 - accuracy: 0.9270 - val_loss: 0.3296 - val_accuracy: 0.8629\n",
      "Epoch 4/20\n",
      "30/30 [==============================] - 1s 30ms/step - loss: 0.1857 - accuracy: 0.9408 - val_loss: 0.2807 - val_accuracy: 0.8878\n",
      "Epoch 5/20\n",
      "30/30 [==============================] - 1s 31ms/step - loss: 0.1494 - accuracy: 0.9533 - val_loss: 0.2761 - val_accuracy: 0.8892\n",
      "Epoch 6/20\n",
      "30/30 [==============================] - 1s 29ms/step - loss: 0.1250 - accuracy: 0.9620 - val_loss: 0.3070 - val_accuracy: 0.8818\n",
      "Epoch 7/20\n",
      "30/30 [==============================] - 1s 31ms/step - loss: 0.1050 - accuracy: 0.9687 - val_loss: 0.3116 - val_accuracy: 0.8820\n",
      "Epoch 8/20\n",
      "30/30 [==============================] - 1s 28ms/step - loss: 0.0868 - accuracy: 0.9753 - val_loss: 0.3241 - val_accuracy: 0.8822\n",
      "Epoch 9/20\n",
      "30/30 [==============================] - 1s 29ms/step - loss: 0.0730 - accuracy: 0.9799 - val_loss: 0.3435 - val_accuracy: 0.8798\n",
      "Epoch 10/20\n",
      "30/30 [==============================] - 1s 28ms/step - loss: 0.0598 - accuracy: 0.9848 - val_loss: 0.3710 - val_accuracy: 0.8763\n",
      "Epoch 11/20\n",
      "30/30 [==============================] - 1s 29ms/step - loss: 0.0516 - accuracy: 0.9877 - val_loss: 0.3900 - val_accuracy: 0.8764\n",
      "Epoch 12/20\n",
      "30/30 [==============================] - 1s 29ms/step - loss: 0.0405 - accuracy: 0.9913 - val_loss: 0.4174 - val_accuracy: 0.8753\n",
      "Epoch 13/20\n",
      "30/30 [==============================] - 1s 29ms/step - loss: 0.0330 - accuracy: 0.9928 - val_loss: 0.4482 - val_accuracy: 0.8747\n",
      "Epoch 14/20\n",
      "30/30 [==============================] - 1s 28ms/step - loss: 0.0285 - accuracy: 0.9937 - val_loss: 0.4834 - val_accuracy: 0.8726\n",
      "Epoch 15/20\n",
      "30/30 [==============================] - 1s 30ms/step - loss: 0.0218 - accuracy: 0.9956 - val_loss: 0.5095 - val_accuracy: 0.8708\n",
      "Epoch 16/20\n",
      "30/30 [==============================] - 1s 27ms/step - loss: 0.0164 - accuracy: 0.9973 - val_loss: 0.5493 - val_accuracy: 0.8700\n",
      "Epoch 17/20\n",
      "30/30 [==============================] - 1s 28ms/step - loss: 0.0149 - accuracy: 0.9978 - val_loss: 0.5844 - val_accuracy: 0.8665\n",
      "Epoch 18/20\n",
      "30/30 [==============================] - 1s 28ms/step - loss: 0.0118 - accuracy: 0.9982 - val_loss: 0.6178 - val_accuracy: 0.8660\n",
      "Epoch 19/20\n",
      "30/30 [==============================] - 1s 28ms/step - loss: 0.0067 - accuracy: 0.9995 - val_loss: 0.6649 - val_accuracy: 0.8641\n",
      "Epoch 20/20\n",
      "30/30 [==============================] - 1s 27ms/step - loss: 0.0067 - accuracy: 0.9994 - val_loss: 0.6889 - val_accuracy: 0.8658\n"
     ]
    }
   ],
   "source": [
    "from tensorflow.keras.datasets import imdb\n",
    "#lectura de datos sobre opinionesbuenas o malas sobre peliculas\n",
    "(train_data, train_labels), _ = imdb.load_data(num_words=10000)\n",
    "\n",
    "#función que convierne a vectores las entradas\n",
    "def vectorize_sequences(sequences, dimension=10000):\n",
    "    results = np.zeros((len(sequences), dimension))\n",
    "    for i, sequence in enumerate(sequences):\n",
    "        results[i, sequence] = 1.\n",
    "    return results\n",
    "train_data = vectorize_sequences(train_data)\n",
    "\n",
    "#modelo chiquito \n",
    "model = keras.Sequential([\n",
    "    layers.Dense(16, activation=\"relu\"),\n",
    "    layers.Dense(16, activation=\"relu\"),\n",
    "    layers.Dense(1, activation=\"sigmoid\")\n",
    "])\n",
    "model.compile(optimizer=\"rmsprop\",\n",
    "              loss=\"binary_crossentropy\", #porque la salida es si la peli es buena o no\n",
    "              metrics=[\"accuracy\"])\n",
    "\n",
    "history_original = model.fit(train_data, train_labels,\n",
    "                             epochs=20, batch_size=512, validation_split=0.4)"
   ]
  },
  {
   "cell_type": "markdown",
   "metadata": {
    "colab_type": "text"
   },
   "source": [
    "**Version of the model with lower capacity**\n",
    "el modelo ya era pequeño pero se redijo la capacidad de este con menos neuronas, al ser de menos neuronas entrena más rapido, pero sera menos eficiente "
   ]
  },
  {
   "cell_type": "code",
   "execution_count": 16,
   "metadata": {
    "colab_type": "code"
   },
   "outputs": [
    {
     "name": "stdout",
     "output_type": "stream",
     "text": [
      "Epoch 1/20\n",
      "30/30 [==============================] - 7s 197ms/step - loss: 0.6660 - accuracy: 0.6315 - val_loss: 0.6424 - val_accuracy: 0.6518\n",
      "Epoch 2/20\n",
      "30/30 [==============================] - 1s 46ms/step - loss: 0.6161 - accuracy: 0.7306 - val_loss: 0.5933 - val_accuracy: 0.7408\n",
      "Epoch 3/20\n",
      "30/30 [==============================] - 1s 32ms/step - loss: 0.5566 - accuracy: 0.8075 - val_loss: 0.5409 - val_accuracy: 0.8193\n",
      "Epoch 4/20\n",
      "30/30 [==============================] - 1s 29ms/step - loss: 0.4980 - accuracy: 0.8590 - val_loss: 0.4904 - val_accuracy: 0.8422\n",
      "Epoch 5/20\n",
      "30/30 [==============================] - 1s 29ms/step - loss: 0.4376 - accuracy: 0.8929 - val_loss: 0.4374 - val_accuracy: 0.8684\n",
      "Epoch 6/20\n",
      "30/30 [==============================] - 1s 31ms/step - loss: 0.3748 - accuracy: 0.9109 - val_loss: 0.3846 - val_accuracy: 0.8811\n",
      "Epoch 7/20\n",
      "30/30 [==============================] - 1s 30ms/step - loss: 0.3157 - accuracy: 0.9224 - val_loss: 0.3447 - val_accuracy: 0.8813\n",
      "Epoch 8/20\n",
      "30/30 [==============================] - 1s 30ms/step - loss: 0.2692 - accuracy: 0.9303 - val_loss: 0.3153 - val_accuracy: 0.8876\n",
      "Epoch 9/20\n",
      "30/30 [==============================] - 1s 27ms/step - loss: 0.2344 - accuracy: 0.9377 - val_loss: 0.2964 - val_accuracy: 0.8883\n",
      "Epoch 10/20\n",
      "30/30 [==============================] - 1s 28ms/step - loss: 0.2071 - accuracy: 0.9441 - val_loss: 0.2866 - val_accuracy: 0.8891\n",
      "Epoch 11/20\n",
      "30/30 [==============================] - 1s 26ms/step - loss: 0.1843 - accuracy: 0.9491 - val_loss: 0.2778 - val_accuracy: 0.8906\n",
      "Epoch 12/20\n",
      "30/30 [==============================] - 1s 24ms/step - loss: 0.1644 - accuracy: 0.9551 - val_loss: 0.2773 - val_accuracy: 0.8896\n",
      "Epoch 13/20\n",
      "30/30 [==============================] - 1s 28ms/step - loss: 0.1475 - accuracy: 0.9589 - val_loss: 0.2725 - val_accuracy: 0.8909\n",
      "Epoch 14/20\n",
      "30/30 [==============================] - 1s 28ms/step - loss: 0.1333 - accuracy: 0.9641 - val_loss: 0.2751 - val_accuracy: 0.8892\n",
      "Epoch 15/20\n",
      "30/30 [==============================] - 1s 30ms/step - loss: 0.1205 - accuracy: 0.9679 - val_loss: 0.2778 - val_accuracy: 0.8894\n",
      "Epoch 16/20\n",
      "30/30 [==============================] - 1s 30ms/step - loss: 0.1092 - accuracy: 0.9717 - val_loss: 0.2819 - val_accuracy: 0.8886\n",
      "Epoch 17/20\n",
      "30/30 [==============================] - 1s 30ms/step - loss: 0.0993 - accuracy: 0.9749 - val_loss: 0.2900 - val_accuracy: 0.8880\n",
      "Epoch 18/20\n",
      "30/30 [==============================] - 1s 29ms/step - loss: 0.0893 - accuracy: 0.9781 - val_loss: 0.2976 - val_accuracy: 0.8872\n",
      "Epoch 19/20\n",
      "30/30 [==============================] - 1s 28ms/step - loss: 0.0814 - accuracy: 0.9795 - val_loss: 0.3041 - val_accuracy: 0.8872\n",
      "Epoch 20/20\n",
      "30/30 [==============================] - 1s 27ms/step - loss: 0.0733 - accuracy: 0.9819 - val_loss: 0.3129 - val_accuracy: 0.8854\n"
     ]
    }
   ],
   "source": [
    "model = keras.Sequential([\n",
    "    layers.Dense(4, activation=\"relu\"), #modelo aun más chiquito\n",
    "    layers.Dense(4, activation=\"relu\"),\n",
    "    layers.Dense(1, activation=\"sigmoid\")\n",
    "])\n",
    "model.compile(optimizer=\"rmsprop\",\n",
    "              loss=\"binary_crossentropy\",\n",
    "              metrics=[\"accuracy\"])\n",
    "history_smaller_model = model.fit(\n",
    "    train_data, train_labels,\n",
    "    epochs=20, batch_size=512, validation_split=0.4)"
   ]
  },
  {
   "cell_type": "markdown",
   "metadata": {},
   "source": [
    "la diferencia es notable en los val loss, pues en el modelo anterior el val loss estaba más cercano del cero"
   ]
  },
  {
   "cell_type": "markdown",
   "metadata": {
    "colab_type": "text"
   },
   "source": [
    "**Version of the model with higher capacity**\n",
    "Al hacer un modelo de gran capacidad, el entrenamiento dura mas y es muy probable caer en sobreajuste"
   ]
  },
  {
   "cell_type": "code",
   "execution_count": 17,
   "metadata": {
    "colab_type": "code"
   },
   "outputs": [
    {
     "name": "stdout",
     "output_type": "stream",
     "text": [
      "Epoch 1/20\n",
      "30/30 [==============================] - 13s 370ms/step - loss: 0.5544 - accuracy: 0.7535 - val_loss: 0.2951 - val_accuracy: 0.8861\n",
      "Epoch 2/20\n",
      "30/30 [==============================] - 6s 194ms/step - loss: 0.2580 - accuracy: 0.8961 - val_loss: 0.3011 - val_accuracy: 0.8735\n",
      "Epoch 3/20\n",
      "30/30 [==============================] - 6s 188ms/step - loss: 0.1627 - accuracy: 0.9371 - val_loss: 0.2716 - val_accuracy: 0.8889\n",
      "Epoch 4/20\n",
      "30/30 [==============================] - 6s 186ms/step - loss: 0.0841 - accuracy: 0.9714 - val_loss: 0.3435 - val_accuracy: 0.8880\n",
      "Epoch 5/20\n",
      "30/30 [==============================] - 6s 188ms/step - loss: 0.1124 - accuracy: 0.9753 - val_loss: 0.3517 - val_accuracy: 0.8858\n",
      "Epoch 6/20\n",
      "30/30 [==============================] - 6s 186ms/step - loss: 0.0054 - accuracy: 0.9997 - val_loss: 0.5131 - val_accuracy: 0.8849\n",
      "Epoch 7/20\n",
      "30/30 [==============================] - 5s 184ms/step - loss: 8.2626e-04 - accuracy: 1.0000 - val_loss: 0.6285 - val_accuracy: 0.8800\n",
      "Epoch 8/20\n",
      "30/30 [==============================] - 5s 179ms/step - loss: 1.4315e-04 - accuracy: 1.0000 - val_loss: 0.7342 - val_accuracy: 0.8855\n",
      "Epoch 9/20\n",
      "30/30 [==============================] - 5s 180ms/step - loss: 2.0906e-05 - accuracy: 1.0000 - val_loss: 0.8839 - val_accuracy: 0.8813\n",
      "Epoch 10/20\n",
      "30/30 [==============================] - 6s 185ms/step - loss: 4.2905e-06 - accuracy: 1.0000 - val_loss: 0.9509 - val_accuracy: 0.8843\n",
      "Epoch 11/20\n",
      "30/30 [==============================] - 6s 195ms/step - loss: 1.0605e-06 - accuracy: 1.0000 - val_loss: 1.0102 - val_accuracy: 0.8849\n",
      "Epoch 12/20\n",
      "30/30 [==============================] - 6s 203ms/step - loss: 3.4787e-07 - accuracy: 1.0000 - val_loss: 1.1062 - val_accuracy: 0.8841\n",
      "Epoch 13/20\n",
      "30/30 [==============================] - 5s 181ms/step - loss: 1.2441e-07 - accuracy: 1.0000 - val_loss: 1.1679 - val_accuracy: 0.8847\n",
      "Epoch 14/20\n",
      "30/30 [==============================] - 6s 188ms/step - loss: 5.1105e-08 - accuracy: 1.0000 - val_loss: 1.2184 - val_accuracy: 0.8848\n",
      "Epoch 15/20\n",
      "30/30 [==============================] - 6s 205ms/step - loss: 2.8534e-08 - accuracy: 1.0000 - val_loss: 1.2474 - val_accuracy: 0.8846\n",
      "Epoch 16/20\n",
      "30/30 [==============================] - 6s 198ms/step - loss: 1.9197e-08 - accuracy: 1.0000 - val_loss: 1.2693 - val_accuracy: 0.8842\n",
      "Epoch 17/20\n",
      "30/30 [==============================] - 6s 186ms/step - loss: 1.4291e-08 - accuracy: 1.0000 - val_loss: 1.2921 - val_accuracy: 0.8847\n",
      "Epoch 18/20\n",
      "30/30 [==============================] - 6s 185ms/step - loss: 1.1419e-08 - accuracy: 1.0000 - val_loss: 1.3003 - val_accuracy: 0.8842\n",
      "Epoch 19/20\n",
      "30/30 [==============================] - 6s 197ms/step - loss: 9.5752e-09 - accuracy: 1.0000 - val_loss: 1.3136 - val_accuracy: 0.8843\n",
      "Epoch 20/20\n",
      "30/30 [==============================] - 5s 169ms/step - loss: 8.2114e-09 - accuracy: 1.0000 - val_loss: 1.3238 - val_accuracy: 0.8842\n"
     ]
    }
   ],
   "source": [
    "#red neuronal gigante muchas neuronas por capas, modelo de mayor capacidad\n",
    "model = keras.Sequential([\n",
    "    layers.Dense(512, activation=\"relu\"),\n",
    "    layers.Dense(512, activation=\"relu\"),\n",
    "    layers.Dense(1, activation=\"sigmoid\")\n",
    "])\n",
    "model.compile(optimizer=\"rmsprop\",\n",
    "              loss=\"binary_crossentropy\",\n",
    "              metrics=[\"accuracy\"])\n",
    "history_larger_model = model.fit(\n",
    "    train_data, train_labels,\n",
    "    epochs=20, batch_size=512, validation_split=0.4)"
   ]
  },
  {
   "cell_type": "code",
   "execution_count": 19,
   "metadata": {},
   "outputs": [
    {
     "data": {
      "image/png": "[encoded data removed]",
      "text/plain": [
       "<Figure size 640x480 with 1 Axes>"
      ]
     },
     "metadata": {},
     "output_type": "display_data"
    }
   ],
   "source": [
    "import matplotlib.pyplot as plt\n",
    "val_loss = history_original.history[\"val_loss\"]\n",
    "epochs = range(1, 21)\n",
    "plt.plot(epochs, val_loss, \"b--\",\n",
    "         label=\"original model validation loss\")\n",
    "plt.title(\"Effect of model capacity on overfitting\")\n",
    "plt.xlabel(\"Epochs\")\n",
    "plt.ylabel(\"Loss\")\n",
    "\n",
    "val_loss = history_smaller_model.history[\"val_loss\"]\n",
    "epochs = range(1, 21)\n",
    "plt.plot(epochs, val_loss, \"r--\",\n",
    "         label=\"Small model validation loss\")\n",
    "\n",
    "val_loss = history_larger_model.history[\"val_loss\"]\n",
    "epochs = range(1, 21)\n",
    "plt.plot(epochs, val_loss, \"g:\",\n",
    "         label=\"large model validation loss\")\n",
    "\n",
    "plt.legend()\n",
    "plt.show();"
   ]
  },
  {
   "cell_type": "markdown",
   "metadata": {},
   "source": [
    "- Podemos ver que la roja (menor capacidad), llega el minimo máslento y no sobreajusta tan rapido\n",
    "- la original llega mpás rapido al minimo pero sobreajusta más rapido tambien\n",
    "- y la de mayor capacidad (verde) es la que ajusta más rapido pero también sobreajusta muhcísimo más rapido"
   ]
  },
  {
   "cell_type": "markdown",
   "metadata": {},
   "source": [
    "### **Hay maneras de no caer en el sobreajuste a pesar de tener muchas neuronas**\n",
    "\n",
    "##### Existen metodos de \"Penalizacion\" / \"Regularizacion\" de redes neuronales \n",
    "       -L2: pondera/penaliza con el cuadrado del peso de las neuronas + un factor lambda (l2)"
   ]
  },
  {
   "cell_type": "markdown",
   "metadata": {
    "colab_type": "text"
   },
   "source": [
    "#### Adding weight regularization\n",
    "\n",
    "Las regularizaciones ayudan a que un conjunto de neuronas en especifique no se lleven mucho peso del total de neuronas "
   ]
  },
  {
   "cell_type": "markdown",
   "metadata": {
    "colab_type": "text"
   },
   "source": [
    "**Adding L2 weight regularization to the model**"
   ]
  },
  {
   "cell_type": "code",
   "execution_count": 20,
   "metadata": {
    "colab_type": "code"
   },
   "outputs": [
    {
     "name": "stdout",
     "output_type": "stream",
     "text": [
      "Epoch 1/20\n",
      "30/30 [==============================] - 6s 157ms/step - loss: 0.5806 - accuracy: 0.7869 - val_loss: 0.4591 - val_accuracy: 0.8679\n",
      "Epoch 2/20\n",
      "30/30 [==============================] - 1s 30ms/step - loss: 0.3869 - accuracy: 0.8984 - val_loss: 0.3819 - val_accuracy: 0.8864\n",
      "Epoch 3/20\n",
      "30/30 [==============================] - 1s 29ms/step - loss: 0.3240 - accuracy: 0.9180 - val_loss: 0.3754 - val_accuracy: 0.8782\n",
      "Epoch 4/20\n",
      "30/30 [==============================] - 1s 28ms/step - loss: 0.2991 - accuracy: 0.9228 - val_loss: 0.3566 - val_accuracy: 0.8885\n",
      "Epoch 5/20\n",
      "30/30 [==============================] - 1s 28ms/step - loss: 0.2756 - accuracy: 0.9349 - val_loss: 0.3676 - val_accuracy: 0.8818\n",
      "Epoch 6/20\n",
      "30/30 [==============================] - 1s 27ms/step - loss: 0.2650 - accuracy: 0.9369 - val_loss: 0.3707 - val_accuracy: 0.8810\n",
      "Epoch 7/20\n",
      "30/30 [==============================] - 1s 27ms/step - loss: 0.2507 - accuracy: 0.9431 - val_loss: 0.3811 - val_accuracy: 0.8773\n",
      "Epoch 8/20\n",
      "30/30 [==============================] - 1s 27ms/step - loss: 0.2478 - accuracy: 0.9434 - val_loss: 0.4374 - val_accuracy: 0.8563\n",
      "Epoch 9/20\n",
      "30/30 [==============================] - 1s 27ms/step - loss: 0.2408 - accuracy: 0.9445 - val_loss: 0.3883 - val_accuracy: 0.8773\n",
      "Epoch 10/20\n",
      "30/30 [==============================] - 1s 30ms/step - loss: 0.2419 - accuracy: 0.9429 - val_loss: 0.3831 - val_accuracy: 0.8801\n",
      "Epoch 11/20\n",
      "30/30 [==============================] - 1s 27ms/step - loss: 0.2312 - accuracy: 0.9500 - val_loss: 0.3816 - val_accuracy: 0.8799\n",
      "Epoch 12/20\n",
      "30/30 [==============================] - 1s 26ms/step - loss: 0.2321 - accuracy: 0.9482 - val_loss: 0.4603 - val_accuracy: 0.8599\n",
      "Epoch 13/20\n",
      "30/30 [==============================] - 1s 28ms/step - loss: 0.2235 - accuracy: 0.9505 - val_loss: 0.3924 - val_accuracy: 0.8786\n",
      "Epoch 14/20\n",
      "30/30 [==============================] - 1s 28ms/step - loss: 0.2224 - accuracy: 0.9508 - val_loss: 0.3940 - val_accuracy: 0.8773\n",
      "Epoch 15/20\n",
      "30/30 [==============================] - 1s 28ms/step - loss: 0.2250 - accuracy: 0.9511 - val_loss: 0.4129 - val_accuracy: 0.8734\n",
      "Epoch 16/20\n",
      "30/30 [==============================] - 1s 27ms/step - loss: 0.2120 - accuracy: 0.9577 - val_loss: 0.4123 - val_accuracy: 0.8759\n",
      "Epoch 17/20\n",
      "30/30 [==============================] - 1s 28ms/step - loss: 0.2219 - accuracy: 0.9511 - val_loss: 0.4115 - val_accuracy: 0.8757\n",
      "Epoch 18/20\n",
      "30/30 [==============================] - 1s 28ms/step - loss: 0.2121 - accuracy: 0.9553 - val_loss: 0.4070 - val_accuracy: 0.8760\n",
      "Epoch 19/20\n",
      "30/30 [==============================] - 1s 28ms/step - loss: 0.2107 - accuracy: 0.9551 - val_loss: 0.4906 - val_accuracy: 0.8498\n",
      "Epoch 20/20\n",
      "30/30 [==============================] - 1s 25ms/step - loss: 0.2097 - accuracy: 0.9564 - val_loss: 0.4143 - val_accuracy: 0.8756\n"
     ]
    }
   ],
   "source": [
    "from tensorflow.keras import regularizers\n",
    "model = keras.Sequential([\n",
    "    layers.Dense(16, # 16 neuronas\n",
    "                 kernel_regularizer=regularizers.l2(0.002), #regularizacion l2\n",
    "                 activation=\"relu\"),\n",
    "    layers.Dense(16,\n",
    "                 kernel_regularizer=regularizers.l2(0.002), #Regularizacion l2\n",
    "                 activation=\"relu\"),\n",
    "    layers.Dense(1, activation=\"sigmoid\")\n",
    "])\n",
    "\n",
    "model.compile(optimizer=\"rmsprop\",\n",
    "              loss=\"binary_crossentropy\",\n",
    "              metrics=[\"accuracy\"])\n",
    "\n",
    "history_l2_reg = model.fit(\n",
    "    train_data, train_labels,\n",
    "    epochs=20, batch_size=512, validation_split=0.4)"
   ]
  },
  {
   "cell_type": "markdown",
   "metadata": {
    "colab_type": "text"
   },
   "source": [
    "**Different weight regularizers available in Keras**"
   ]
  },
  {
   "cell_type": "markdown",
   "metadata": {},
   "source": [
    "#### **Tambien existe la penalizacion L1**\n",
    "        - Es practicamnete lo mismo que en la penalización l2, pero en lugag de elevar al cuadrado el peso de la neurona es el valor absoluto del peso de la neurona"
   ]
  },
  {
   "cell_type": "code",
   "execution_count": 15,
   "metadata": {
    "colab_type": "code"
   },
   "outputs": [
    {
     "data": {
      "text/plain": [
       "<keras.regularizers.L1L2 at 0x2018d0fad00>"
      ]
     },
     "execution_count": 15,
     "metadata": {},
     "output_type": "execute_result"
    }
   ],
   "source": [
    "from tensorflow.keras import regularizers\n",
    "regularizers.l1(0.001)\n",
    "regularizers.l1_l2(l1=0.001, l2=0.001) # se pueden combinar"
   ]
  },
  {
   "cell_type": "markdown",
   "metadata": {
    "colab_type": "text"
   },
   "source": [
    "#### **Adding dropout**\n",
    "\n",
    "        - el Drop-out es otro tipo de regularización, este consiste en apagar de manera aleatorio un porcentaje determinado de neuronas e ir regulando los pesos de estas en cada iteracion\n",
    "        - Lo que se consigue con el drop out es evitar que las neuronas memoricen "
   ]
  },
  {
   "cell_type": "markdown",
   "metadata": {
    "colab_type": "text"
   },
   "source": [
    "**Adding dropout to the IMDB model**"
   ]
  },
  {
   "cell_type": "code",
   "execution_count": 21,
   "metadata": {
    "colab_type": "code"
   },
   "outputs": [
    {
     "name": "stdout",
     "output_type": "stream",
     "text": [
      "Epoch 1/20\n",
      "30/30 [==============================] - 6s 99ms/step - loss: 0.6344 - accuracy: 0.6385 - val_loss: 0.5189 - val_accuracy: 0.8325\n",
      "Epoch 2/20\n",
      "30/30 [==============================] - 1s 36ms/step - loss: 0.5118 - accuracy: 0.7703 - val_loss: 0.4019 - val_accuracy: 0.8765\n",
      "Epoch 3/20\n",
      "30/30 [==============================] - 1s 42ms/step - loss: 0.4281 - accuracy: 0.8287 - val_loss: 0.3517 - val_accuracy: 0.8829\n",
      "Epoch 4/20\n",
      "30/30 [==============================] - 1s 36ms/step - loss: 0.3678 - accuracy: 0.8647 - val_loss: 0.3237 - val_accuracy: 0.8824\n",
      "Epoch 5/20\n",
      "30/30 [==============================] - 1s 33ms/step - loss: 0.3276 - accuracy: 0.8857 - val_loss: 0.2924 - val_accuracy: 0.8921\n",
      "Epoch 6/20\n",
      "30/30 [==============================] - 1s 30ms/step - loss: 0.2848 - accuracy: 0.9068 - val_loss: 0.2817 - val_accuracy: 0.8935\n",
      "Epoch 7/20\n",
      "30/30 [==============================] - 1s 29ms/step - loss: 0.2522 - accuracy: 0.9202 - val_loss: 0.2801 - val_accuracy: 0.8935\n",
      "Epoch 8/20\n",
      "30/30 [==============================] - 1s 31ms/step - loss: 0.2207 - accuracy: 0.9356 - val_loss: 0.2827 - val_accuracy: 0.8901\n",
      "Epoch 9/20\n",
      "30/30 [==============================] - 1s 31ms/step - loss: 0.1985 - accuracy: 0.9390 - val_loss: 0.3050 - val_accuracy: 0.8916\n",
      "Epoch 10/20\n",
      "30/30 [==============================] - 1s 32ms/step - loss: 0.1820 - accuracy: 0.9458 - val_loss: 0.3122 - val_accuracy: 0.8917\n",
      "Epoch 11/20\n",
      "30/30 [==============================] - 1s 28ms/step - loss: 0.1660 - accuracy: 0.9491 - val_loss: 0.3331 - val_accuracy: 0.8904\n",
      "Epoch 12/20\n",
      "30/30 [==============================] - 1s 29ms/step - loss: 0.1507 - accuracy: 0.9558 - val_loss: 0.3523 - val_accuracy: 0.8881\n",
      "Epoch 13/20\n",
      "30/30 [==============================] - 1s 31ms/step - loss: 0.1334 - accuracy: 0.9587 - val_loss: 0.3844 - val_accuracy: 0.8897\n",
      "Epoch 14/20\n",
      "30/30 [==============================] - 1s 31ms/step - loss: 0.1240 - accuracy: 0.9637 - val_loss: 0.3885 - val_accuracy: 0.8866\n",
      "Epoch 15/20\n",
      "30/30 [==============================] - 1s 31ms/step - loss: 0.1126 - accuracy: 0.9670 - val_loss: 0.4168 - val_accuracy: 0.8864\n",
      "Epoch 16/20\n",
      "30/30 [==============================] - 1s 31ms/step - loss: 0.1065 - accuracy: 0.9691 - val_loss: 0.4752 - val_accuracy: 0.8838\n",
      "Epoch 17/20\n",
      "30/30 [==============================] - 1s 32ms/step - loss: 0.0961 - accuracy: 0.9727 - val_loss: 0.4853 - val_accuracy: 0.8874\n",
      "Epoch 18/20\n",
      "30/30 [==============================] - 1s 27ms/step - loss: 0.0945 - accuracy: 0.9733 - val_loss: 0.5014 - val_accuracy: 0.8874\n",
      "Epoch 19/20\n",
      "30/30 [==============================] - 1s 30ms/step - loss: 0.0876 - accuracy: 0.9754 - val_loss: 0.5558 - val_accuracy: 0.8873\n",
      "Epoch 20/20\n",
      "30/30 [==============================] - 1s 29ms/step - loss: 0.0875 - accuracy: 0.9741 - val_loss: 0.5287 - val_accuracy: 0.8864\n"
     ]
    }
   ],
   "source": [
    "model = keras.Sequential([\n",
    "    layers.Dense(16, activation=\"relu\"),\n",
    "    layers.Dropout(0.5), # se apagan la mitad de las neuronas\n",
    "    layers.Dense(16, activation=\"relu\"),\n",
    "    layers.Dropout(0.5), \n",
    "    layers.Dense(1, activation=\"sigmoid\")\n",
    "])\n",
    "\n",
    "model.compile(optimizer=\"rmsprop\",\n",
    "              loss=\"binary_crossentropy\",\n",
    "              metrics=[\"accuracy\"])\n",
    "\n",
    "history_dropout = model.fit(\n",
    "    train_data, train_labels,\n",
    "    epochs=20, batch_size=512, validation_split=0.4)"
   ]
  },
  {
   "cell_type": "code",
   "execution_count": 24,
   "metadata": {},
   "outputs": [
    {
     "data": {
      "image/png": "[encoded data removed]",
      "text/plain": [
       "<Figure size 640x480 with 1 Axes>"
      ]
     },
     "metadata": {},
     "output_type": "display_data"
    }
   ],
   "source": [
    "import matplotlib.pyplot as plt\n",
    "val_loss = history_original.history[\"val_loss\"]\n",
    "epochs = range(1, 21)\n",
    "plt.plot(epochs, val_loss, \"b--\",\n",
    "         label=\"original model validation loss\")\n",
    "plt.title(\"Effect of model capacity on overfitting\")\n",
    "plt.xlabel(\"Epochs\")\n",
    "plt.ylabel(\"Loss\")\n",
    "\n",
    "val_loss = history_l2_reg.history[\"val_loss\"]\n",
    "epochs = range(1, 21)\n",
    "plt.plot(epochs, val_loss, \"r--\",\n",
    "         label=\"l2 regularazion 0.02\")\n",
    "\n",
    "val_loss = history_dropout.history[\"val_loss\"]\n",
    "epochs = range(1, 21)\n",
    "plt.plot(epochs, val_loss, \"g:\",\n",
    "         label=\"drop-out 0.05\")\n",
    "\n",
    "plt.legend()\n",
    "plt.show();"
   ]
  },
  {
   "cell_type": "markdown",
   "metadata": {
    "colab_type": "text"
   },
   "source": [
    "## Summary"
   ]
  }
 ],
 "metadata": {
  "colab": {
   "collapsed_sections": [],
   "name": "chapter05_fundamentals-of-ml.i",
   "private_outputs": false,
   "provenance": [],
   "toc_visible": true
  },
  "kernelspec": {
   "display_name": "Python 3",
   "language": "python",
   "name": "python3"
  },
  "language_info": {
   "codemirror_mode": {
    "name": "ipython",
    "version": 3
   },
   "file_extension": ".py",
   "mimetype": "text/x-python",
   "name": "python",
   "nbconvert_exporter": "python",
   "pygments_lexer": "ipython3",
   "version": "3.8.13"
  }
 },
 "nbformat": 4,
 "nbformat_minor": 4
}
